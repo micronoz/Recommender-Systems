{
 "cells": [
  {
   "cell_type": "code",
   "execution_count": 14,
   "metadata": {},
   "outputs": [],
   "source": [
    "import numpy\n",
    "import urllib\n",
    "import scipy.optimize\n",
    "import random\n",
    "from sklearn import svm\n",
    "import os\n",
    "import yaml\n",
    "import random\n",
    "import operator"
   ]
  },
  {
   "cell_type": "code",
   "execution_count": 3,
   "metadata": {},
   "outputs": [],
   "source": [
    "def parseData(fname):\n",
    "    for l in urllib.request.urlopen(fname):\n",
    "        yield eval(l)\n",
    "data = list(parseData(\"http://jmcauley.ucsd.edu/cse190/data/beer/beer_50000.json\"))"
   ]
  },
  {
   "cell_type": "code",
   "execution_count": 4,
   "metadata": {},
   "outputs": [
    {
     "name": "stdout",
     "output_type": "stream",
     "text": [
      "Rounded down ratings: {'1-star': 554, '2-star': 2723, '3-star': 12934, '4-star': 29458, '5-star': 4331}\n"
     ]
    }
   ],
   "source": [
    "#Question 1\n",
    "ratings = {'1-star':0, '2-star':0, '3-star':0, '4-star':0, '5-star':0}\n",
    "for d in data:\n",
    "    ratings[str(int(d['review/taste']))+'-star'] += 1\n",
    "print('Rounded down ratings: {}'.format(ratings))"
   ]
  },
  {
   "cell_type": "code",
   "execution_count": 5,
   "metadata": {},
   "outputs": [
    {
     "name": "stdout",
     "output_type": "stream",
     "text": [
      "[('Wobbly Bob APA', 4.714285714285714)]\n"
     ]
    }
   ],
   "source": [
    "#Question 2\n",
    "listOfBeers = set()\n",
    "ratings = dict()\n",
    "averageRatings = dict()\n",
    "for d in data:\n",
    "    listOfBeers.add(d['beer/name'])\n",
    "for beerName in listOfBeers:\n",
    "    ratings[beerName] = 0\n",
    "    averageRatings[beerName] = 0\n",
    "for d in data:\n",
    "    ratings[d['beer/name']] += 1\n",
    "    averageRatings[d['beer/name']] += d['review/overall']\n",
    "for key in ratings.keys():\n",
    "    averageRatings[key] = -1 if ratings[key] < 5 else averageRatings[key]/ratings[key]\n",
    "maximum = max(averageRatings.values())\n",
    "result = []\n",
    "for item in averageRatings.items():\n",
    "    if item[1] == maximum:\n",
    "        result.append(item)\n",
    "print(result)"
   ]
  },
  {
   "cell_type": "code",
   "execution_count": 6,
   "metadata": {},
   "outputs": [
    {
     "name": "stdout",
     "output_type": "stream",
     "text": [
      "[ 3.11795084 -0.05637406  0.10877902]\n"
     ]
    }
   ],
   "source": [
    "#Question 3\n",
    "data2 = [d for d in data if 'beer/ABV' in d.keys() and 'beer/style' in d.keys()]\n",
    "def feature(datum):\n",
    "    feat = [1]\n",
    "    if datum['beer/style'] == 'Hefeweizen':\n",
    "        feat.append(1)\n",
    "    else:\n",
    "        feat.append(0)\n",
    "    feat.append(datum['beer/ABV'])\n",
    "    return feat\n",
    "X = [feature(d) for d in data2]\n",
    "y = [d['review/taste'] for d in data2]\n",
    "theta,residuals,rank,s = numpy.linalg.lstsq(X, y, rcond=None)\n",
    "print(theta)\n",
    "#theta[0] shows us the offset. Theta[1] is the weighting of the beer being a \n",
    "#Hefeweizen on the taste score, in this case it has negative impact on the score.\n",
    "#Theta[2] shows the impact of the beer alcohol content on the taste score, in this case\n",
    "#higher is better"
   ]
  },
  {
   "cell_type": "code",
   "execution_count": 7,
   "metadata": {},
   "outputs": [
    {
     "name": "stdout",
     "output_type": "stream",
     "text": [
      "Error for train data = 12099.201400335607\n",
      "Error for test data = 10592.663029965459\n"
     ]
    }
   ],
   "source": [
    "#Question 4\n",
    "train = data2[:len(data2)//2]\n",
    "X_train = [feature(d) for d in train]\n",
    "y_train = [d['review/taste'] for d in train]\n",
    "theta,residuals,rank,s = numpy.linalg.lstsq(X_train, y_train, rcond=-1)\n",
    "predictions = numpy.matmul(theta, numpy.transpose(X_train))\n",
    "print('Error for train data =', numpy.sum(numpy.square(numpy.subtract(predictions, y_train))))\n",
    "\n",
    "test = data2[len(data2)//2:]\n",
    "X_test = [feature(d) for d in test]\n",
    "y_test = [d['review/taste'] for d in test]\n",
    "predictions = numpy.matmul(theta, numpy.transpose(X_test))\n",
    "print('Error for test data =', numpy.sum(numpy.square(numpy.subtract(predictions, y_test))))\n"
   ]
  },
  {
   "cell_type": "code",
   "execution_count": 8,
   "metadata": {},
   "outputs": [
    {
     "name": "stdout",
     "output_type": "stream",
     "text": [
      "Error for train data = 11137.399495328096\n",
      "Error for test data = 11348.452104890428\n"
     ]
    }
   ],
   "source": [
    "#Question 5\n",
    "dataCopy = data2.copy()\n",
    "for i in range(10):\n",
    "    random.shuffle(dataCopy)\n",
    "\n",
    "train = dataCopy[:len(dataCopy)//2]\n",
    "X_train = [feature(d) for d in train]\n",
    "y_train = [d['review/taste'] for d in train]\n",
    "theta,residuals,rank,s = numpy.linalg.lstsq(X_train, y_train, rcond=-1)\n",
    "predictions = numpy.matmul(theta, numpy.transpose(X_train))\n",
    "print('Error for train data =', numpy.sum(numpy.square(numpy.subtract(predictions, y_train))))\n",
    "\n",
    "test = dataCopy[len(dataCopy)//2:]\n",
    "X_test = [feature(d) for d in test]\n",
    "y_test = [d['review/taste'] for d in test]\n",
    "predictions = numpy.matmul(theta, numpy.transpose(X_test))\n",
    "print('Error for test data =', numpy.sum(numpy.square(numpy.subtract(predictions, y_test))))\n",
    "\n",
    "#The data that is pulled from the website might be in some certain order and dividing it before shuffling\n",
    "#might result in skewed data"
   ]
  },
  {
   "cell_type": "code",
   "execution_count": 15,
   "metadata": {},
   "outputs": [
    {
     "name": "stdout",
     "output_type": "stream",
     "text": [
      "[LibSVM]Error for train data = 1.16 %\n",
      "Error for test data = 1.368 %\n"
     ]
    }
   ],
   "source": [
    "#Question 6\n",
    "def feature(datum):\n",
    "    #feat = [1]\n",
    "    feat = []\n",
    "    feat.append(datum['review/taste'])\n",
    "    feat.append(datum['review/appearance'])\n",
    "    feat.append(datum['review/aroma'])\n",
    "    feat.append(datum['review/palate'])\n",
    "    feat.append(datum['review/overall'])\n",
    "    return feat\n",
    "\n",
    "dataCopy = data2.copy()\n",
    "for i in range(10):\n",
    "    random.shuffle(dataCopy)\n",
    "\n",
    "train = dataCopy[:len(dataCopy)//2]\n",
    "X_train = [feature(d) for d in train]\n",
    "y_train = [1 if d['beer/style'] == 'Hefeweizen' else 0 for d in train]\n",
    "clf = svm.SVC(C=1000, kernel='rbf', gamma='scale',verbose=True)\n",
    "clf.fit(X_train, y_train)\n",
    "train_predictions = clf.predict(X_train)\n",
    "print('Error for train data =', 100*numpy.sum(numpy.square(numpy.subtract(train_predictions, y_train)))/len(y_train), '%')\n",
    "\n",
    "test = dataCopy[len(dataCopy)//2:]\n",
    "X_test = [feature(d) for d in test]\n",
    "y_test = [1 if d['beer/style'] == 'Hefeweizen' else 0 for d in test]\n",
    "test_predictions = clf.predict(X_test)\n",
    "print('Error for test data =', 100*numpy.sum(numpy.square(numpy.subtract(test_predictions, y_test)))/len(y_test), '%')"
   ]
  },
  {
   "cell_type": "code",
   "execution_count": 16,
   "metadata": {},
   "outputs": [
    {
     "name": "stdout",
     "output_type": "stream",
     "text": [
      "Error for train data = 1.2 %\n",
      "Error for test data = 1.272 %\n"
     ]
    }
   ],
   "source": [
    "#Question 7\n",
    "def feature(datum):\n",
    "    feat = [1]\n",
    "    #feat = []\n",
    "    #feat.append(datum['review/taste'])\n",
    "#     feat.append(datum['review/appearance'])\n",
    "#     feat.append(datum['review/aroma'])\n",
    "#     feat.append(datum['review/palate'])\n",
    "#     feat.append(datum['review/overall'])\n",
    "    feat.append(datum['beer/ABV'])\n",
    "    return feat\n",
    "\n",
    "train = dataCopy[:len(dataCopy)//2]\n",
    "X_train = [feature(d) for d in train]\n",
    "y_train = [1 if d['beer/style'] == 'Hefeweizen' else 0 for d in train]\n",
    "clf2 = svm.SVC(C=1000, kernel='rbf', gamma='scale')\n",
    "clf2.fit(X_train, y_train)\n",
    "train_predictions = clf2.predict(X_train)\n",
    "print('Error for train data =', 100*numpy.sum(numpy.square(numpy.subtract(train_predictions, y_train)))/len(y_train), '%')\n",
    "\n",
    "test = dataCopy[len(dataCopy)//2:]\n",
    "X_test = [feature(d) for d in test]\n",
    "y_test = [1 if d['beer/style'] == 'Hefeweizen' else 0 for d in test]\n",
    "test_predictions = clf2.predict(X_test)\n",
    "print('Error for test data =', 100*numpy.sum(numpy.square(numpy.subtract(test_predictions, y_test)))/len(y_test), '%')"
   ]
  },
  {
   "cell_type": "code",
   "execution_count": 17,
   "metadata": {},
   "outputs": [
    {
     "name": "stdout",
     "output_type": "stream",
     "text": [
      "--------For regularization factor = 0.1 -----------\n",
      "Error for train data = 1.2 %\n",
      "Error for test data = 1.272 %\n",
      "--------For regularization factor = 10 -----------\n",
      "Error for train data = 1.2 %\n",
      "Error for test data = 1.272 %\n",
      "--------For regularization factor = 1000 -----------\n",
      "Error for train data = 1.2 %\n",
      "Error for test data = 1.272 %\n",
      "--------For regularization factor = 100000 -----------\n",
      "Error for train data = 1.2 %\n",
      "Error for test data = 1.272 %\n"
     ]
    }
   ],
   "source": [
    "#Question 8\n",
    "c = [0.1, 10, 1000, 100000]\n",
    "\n",
    "for reg in c:\n",
    "    clf = svm.SVC(C=reg, kernel='rbf', gamma='scale')\n",
    "    clf.fit(X_train, y_train)\n",
    "    train_predictions = clf.predict(X_train)\n",
    "    print('--------For regularization factor =', reg, '-----------')\n",
    "    print('Error for train data =', 100*numpy.sum(numpy.square(numpy.subtract(train_predictions, y_train)))/len(y_train), '%')\n",
    "    \n",
    "    test_predictions = clf.predict(X_test)\n",
    "    print('Error for test data =', 100*numpy.sum(numpy.square(numpy.subtract(test_predictions, y_test)))/len(y_test), '%')\n"
   ]
  },
  {
   "cell_type": "code",
   "execution_count": null,
   "metadata": {},
   "outputs": [],
   "source": []
  }
 ],
 "metadata": {
  "kernelspec": {
   "display_name": "Python 3",
   "language": "python",
   "name": "python3"
  },
  "language_info": {
   "codemirror_mode": {
    "name": "ipython",
    "version": 3
   },
   "file_extension": ".py",
   "mimetype": "text/x-python",
   "name": "python",
   "nbconvert_exporter": "python",
   "pygments_lexer": "ipython3",
   "version": "3.6.5"
  }
 },
 "nbformat": 4,
 "nbformat_minor": 2
}
