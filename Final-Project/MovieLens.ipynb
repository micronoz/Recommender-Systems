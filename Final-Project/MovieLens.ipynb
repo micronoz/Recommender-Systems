{
 "cells": [
  {
   "cell_type": "code",
   "execution_count": 38,
   "metadata": {},
   "outputs": [],
   "source": [
    "import pandas as pd\n",
    "import numpy as np\n",
    "import matplotlib.pyplot as plt\n",
    "from collections import defaultdict\n",
    "import operator"
   ]
  },
  {
   "cell_type": "code",
   "execution_count": 2,
   "metadata": {},
   "outputs": [
    {
     "name": "stdout",
     "output_type": "stream",
     "text": [
      "Number of unique movies in the dataset: 58098\n",
      "\n",
      "List of possible genres in the dataset:\n",
      "(no genres listed), Action, Adventure, Animation, Children, Comedy, Crime, Documentary, Drama, Fantasy, Film-Noir, Horror, IMAX, Musical, Mystery, Romance, Sci-Fi, Thriller, War, Western\n",
      "\n",
      "\n",
      "Number of users in the dataset: 283228\n",
      "Number of ratings in the dataset: 27753444\n"
     ]
    }
   ],
   "source": [
    "movie_data = pd.read_csv('data/movies.csv')\n",
    "movies = movie_data['movieId'].unique().tolist()\n",
    "print('Number of unique movies in the dataset: {}\\n'.format(len(movies)))\n",
    "\n",
    "genres = movie_data['genres'].unique().tolist()\n",
    "unique_genres = set()\n",
    "for genre_list in genres:\n",
    "    sp = genre_list.split('|')\n",
    "    for gen in sp:\n",
    "        unique_genres.add(gen)\n",
    "print('List of possible genres in the dataset:')\n",
    "for genre in sorted(unique_genres)[:len(unique_genres)-1]:\n",
    "    print(genre, end=', ')\n",
    "print(sorted(unique_genres)[len(unique_genres)-1])\n",
    "    \n",
    "rating_data = pd.read_csv('data/ratings.csv')\n",
    "unique_users = rating_data['userId'].unique().tolist()\n",
    "print('\\n\\nNumber of users in the dataset: {}'.format(len(unique_users)))\n",
    "print('Number of ratings in the dataset: {}'.format(len(rating_data['userId'].tolist())))"
   ]
  },
  {
   "cell_type": "code",
   "execution_count": 46,
   "metadata": {},
   "outputs": [],
   "source": [
    "movie_categories = dict()\n",
    "\n",
    "id_genres = movie_data[['movieId','genres']].values\n",
    "for pair in id_genres:\n",
    "    movie_categories[pair[0]] = pair[1].split('|')\n",
    "\n",
    "rating_movies = rating_data[['movieId']].values\n",
    "category_counts = defaultdict(int)\n",
    "for movie in rating_movies:\n",
    "    for cat in movie_categories[movie[0]]:\n",
    "        category_counts[cat] += 1\n",
    "category_counts_list = list(category_counts.items())\n",
    "category_counts_list.sort(key=operator.itemgetter(1))\n",
    "category_counts_list.reverse()\n",
    "print('Top 5 most watched movie categories are:')\n",
    "for i in range(5):\n",
    "    print('{} with count {}'.format(category_counts_list[i][0],category_counts_list[i][1]))"
   ]
  },
  {
   "cell_type": "code",
   "execution_count": 47,
   "metadata": {},
   "outputs": [
    {
     "name": "stdout",
     "output_type": "stream",
     "text": [
      "Top 5 most watched movie categories are:\n",
      "Drama with count 12191048\n",
      "Comedy with count 9999184\n",
      "Action with count 8214956\n",
      "Thriller with count 7489628\n",
      "Adventure with count 6452309\n"
     ]
    }
   ],
   "source": []
  }
 ],
 "metadata": {
  "kernelspec": {
   "display_name": "Python 3",
   "language": "python",
   "name": "python3"
  },
  "language_info": {
   "codemirror_mode": {
    "name": "ipython",
    "version": 3
   },
   "file_extension": ".py",
   "mimetype": "text/x-python",
   "name": "python",
   "nbconvert_exporter": "python",
   "pygments_lexer": "ipython3",
   "version": "3.7.0"
  }
 },
 "nbformat": 4,
 "nbformat_minor": 2
}
