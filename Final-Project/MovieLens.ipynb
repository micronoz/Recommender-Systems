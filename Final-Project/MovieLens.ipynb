{
 "cells": [
  {
   "cell_type": "code",
   "execution_count": 68,
   "metadata": {},
   "outputs": [],
   "source": [
    "import pandas as pd\n",
    "import numpy as np\n",
    "import matplotlib.pyplot as plt\n",
    "from collections import defaultdict\n",
    "import operator\n",
    "from scipy import spatial\n",
    "from math import log\n",
    "from random import shuffle"
   ]
  },
  {
   "cell_type": "code",
   "execution_count": 23,
   "metadata": {},
   "outputs": [
    {
     "name": "stdout",
     "output_type": "stream",
     "text": [
      "Number of unique movies in the dataset: 58098\n",
      "\n",
      "List of possible genres in the dataset:\n",
      "(no genres listed), Action, Adventure, Animation, Children, Comedy, Crime, Documentary, Drama, Fantasy, Film-Noir, Horror, IMAX, Musical, Mystery, Romance, Sci-Fi, Thriller, War, Western\n",
      "\n",
      "\n",
      "Number of users in the dataset: 283228\n",
      "Number of ratings in the dataset: 27753444\n"
     ]
    }
   ],
   "source": [
    "movie_data = pd.read_csv('data/movies.csv')\n",
    "movies = movie_data['movieId'].unique().tolist()\n",
    "print('Number of unique movies in the dataset: {}\\n'.format(len(movies)))\n",
    "\n",
    "genres = movie_data['genres'].unique().tolist()\n",
    "unique_genres = set()\n",
    "for genre_list in genres:\n",
    "    sp = genre_list.split('|')\n",
    "    for gen in sp:\n",
    "        unique_genres.add(gen)\n",
    "print('List of possible genres in the dataset:')\n",
    "for genre in sorted(unique_genres)[:len(unique_genres)-1]:\n",
    "    print(genre, end=', ')\n",
    "print(sorted(unique_genres)[len(unique_genres)-1])\n",
    "    \n",
    "rating_data = pd.read_csv('data/ratings.csv')\n",
    "unique_users = rating_data['userId'].unique().tolist()\n",
    "print('\\n\\nNumber of users in the dataset: {}'.format(len(unique_users)))\n",
    "print('Number of ratings in the dataset: {}'.format(len(rating_data['userId'].tolist())))"
   ]
  },
  {
   "cell_type": "code",
   "execution_count": 50,
   "metadata": {},
   "outputs": [
    {
     "name": "stdout",
     "output_type": "stream",
     "text": [
      "Top 5 most watched movie categories are:\n",
      "Drama\n",
      "Comedy\n",
      "Action\n",
      "Thriller\n",
      "Adventure\n"
     ]
    }
   ],
   "source": [
    "movie_categories = dict()\n",
    "\n",
    "id_genres = movie_data[['movieId','genres']].values\n",
    "for pair in id_genres:\n",
    "    movie_categories[pair[0]] = pair[1].split('|')\n",
    "\n",
    "rating_movies = rating_data[['movieId']].values\n",
    "category_counts = defaultdict(int)\n",
    "for movie in rating_movies:\n",
    "    for cat in movie_categories[movie[0]]:\n",
    "        category_counts[cat] += 1\n",
    "category_counts_list = list(category_counts.items())\n",
    "category_counts_list.sort(key=operator.itemgetter(1))\n",
    "category_counts_list.reverse()\n",
    "print('Top 5 most watched movie categories are:')\n",
    "top_categories = []\n",
    "for i in range(5):\n",
    "    top_categories.append(category_counts_list[i][0])\n",
    "    print('{}'.format(category_counts_list[i][0]))"
   ]
  },
  {
   "cell_type": "code",
   "execution_count": 17,
   "metadata": {},
   "outputs": [],
   "source": [
    "movie_tags = pd.read_csv('data/tags.csv')\n",
    "movie_tags.drop(columns=['timestamp'],inplace=True)\n",
    "movie_tags.drop_duplicates(inplace=True)"
   ]
  },
  {
   "cell_type": "code",
   "execution_count": 72,
   "metadata": {},
   "outputs": [],
   "source": [
    "movie_tag_counts = defaultdict(list)\n",
    "movie_tags_list = list(movie_tags[['movieId','tag']].values)\n",
    "shuffle(movie_tags_list)\n",
    "movie_genre_test = movie_tags_list[round(len(movie_tags_list) * 0.9):]\n",
    "movie_tags_list = movie_tags_list[:round(len(movie_tags_list) * 0.9)]\n",
    "for pair in movie_tags_list:\n",
    "    if isinstance(pair[1],str):\n",
    "        for tag in pair[1].lower().split():\n",
    "            movie_tag_counts[pair[0]].append(tag)\n",
    "def get_defaultdict_int():\n",
    "    return defaultdict(int)\n"
   ]
  },
  {
   "cell_type": "code",
   "execution_count": 74,
   "metadata": {},
   "outputs": [
    {
     "name": "stdout",
     "output_type": "stream",
     "text": [
      "Drama\n",
      "[('tarantino', 0.00059089215435438), ('leonardo', 0.0005417287461854934), ('dicaprio', 0.0005183877280632727), ('quentin', 0.00042556646994932555), ('hanks', 0.00034473563954794367), ('austen', 0.00034286091881108045), ('coen', 0.0003163916033282854), ('pacino', 0.00031218158481685653), ('notable)', 0.00030522335278587655), ('gosling', 0.0003018514243335284)]\n",
      "Comedy\n",
      "[('stand-up', 0.0010566158396847494), ('pixar', 0.0008851113789571215), ('tarantino', 0.0006327954862111999), ('coen', 0.0005976872354483472), ('monty', 0.0005496367140628084), ('sandler', 0.00047540180106926005), ('carell', 0.000442865847858042), ('quentin', 0.0004257247124737833), ('carrey', 0.00041719979985951504), ('wes', 0.00039998321823118244)]\n",
      "Action\n",
      "[('marvel', 0.0010784985691227554), ('tarantino', 0.0010052114596156702), ('quentin', 0.0007471630973130396), ('007', 0.0005924317018984574), ('wars', 0.0005116860839088302), ('scifi', 0.0005090445464696488), ('schwarzenegger', 0.0004995198044359131), ('mcu', 0.0004923852886639496), ('futuristic', 0.0004820026370522406), ('arnold', 0.0004812958883175599)]\n",
      "Thriller\n",
      "[('tarantino', 0.001416219341340206), ('quentin', 0.0009862933868230689), ('007', 0.000551097081527788), ('turing', 0.0005496973130987529), ('leonardo', 0.0004535731933229545), ('dicaprio', 0.00044748496254009597), ('psychothriller', 0.00040837632219092385), ('fincher', 0.00038205219826406746), ('complicated', 0.0003758129721337447), ('k.', 0.000375440898276271)]\n",
      "Adventure\n",
      "[('pixar', 0.0015479120721972749), ('marvel', 0.0012106740617193485), ('007', 0.0008105805146108834), ('tolkien', 0.0007657474605757711), ('ghibli', 0.0007630960355921085), ('hayao', 0.0007572187752714331), ('wars', 0.0007165411179984323), ('miyazaki', 0.0006150353484701606), ('space', 0.0006149981549044798), ('mcu', 0.0005958571994821726)]\n"
     ]
    }
   ],
   "source": [
    "def get_defaultdict_float():\n",
    "    return defaultdict(float)\n",
    "category_tags = defaultdict(get_defaultdict_int)\n",
    "for movie in movie_tag_counts:\n",
    "    for category in movie_categories[movie]:\n",
    "        for tag in movie_tag_counts[movie]:\n",
    "            category_tags[category][tag] += 1\n",
    "category_totals = dict()\n",
    "for category in category_tags:\n",
    "    total = 0\n",
    "    for tag in category_tags[category]:\n",
    "        total += category_tags[category][tag]\n",
    "    category_totals[category] = total\n",
    "\n",
    "category_tf_scores = defaultdict(get_defaultdict_float)\n",
    "for category in category_tags:\n",
    "    for tag in category_tags[category]:\n",
    "        category_tf_scores[category][tag] = category_tags[category][tag] / category_totals[category]\n",
    "unique_tags = set()\n",
    "\n",
    "for category in category_tf_scores:\n",
    "    for tag in category_tf_scores[category]:\n",
    "        unique_tags.add(tag)\n",
    "tag_idf_scores = defaultdict(float)\n",
    "\n",
    "for tag in list(unique_tags):\n",
    "    doc_count = 0\n",
    "    for category in category_tf_scores:\n",
    "        if tag in category_tf_scores[category]:\n",
    "            doc_count += 1\n",
    "    tag_idf_scores[tag] = log(len(category_tf_scores)/doc_count)\n",
    "    \n",
    "tag_tfidf_scores = defaultdict(get_defaultdict_float)\n",
    "for category in category_tags:\n",
    "    for tag in list(unique_tags):\n",
    "        tag_tfidf_scores[category][tag] = category_tf_scores[category][tag] * tag_idf_scores[tag]\n",
    "\n",
    "for cat in top_categories:\n",
    "    tags = list(tag_tfidf_scores[cat].items())\n",
    "    tags.sort(key=operator.itemgetter(1))\n",
    "    tags.reverse()\n",
    "    print(cat)\n",
    "    print(tags[:10])"
   ]
  },
  {
   "cell_type": "code",
   "execution_count": 75,
   "metadata": {},
   "outputs": [
    {
     "data": {
      "text/plain": [
       "array([6120, 'campy'], dtype=object)"
      ]
     },
     "execution_count": 75,
     "metadata": {},
     "output_type": "execute_result"
    }
   ],
   "source": [
    "movie_tags_list[0]"
   ]
  },
  {
   "cell_type": "code",
   "execution_count": null,
   "metadata": {},
   "outputs": [],
   "source": []
  }
 ],
 "metadata": {
  "kernelspec": {
   "display_name": "Python 3",
   "language": "python",
   "name": "python3"
  },
  "language_info": {
   "codemirror_mode": {
    "name": "ipython",
    "version": 3
   },
   "file_extension": ".py",
   "mimetype": "text/x-python",
   "name": "python",
   "nbconvert_exporter": "python",
   "pygments_lexer": "ipython3",
   "version": "3.7.0"
  }
 },
 "nbformat": 4,
 "nbformat_minor": 2
}
