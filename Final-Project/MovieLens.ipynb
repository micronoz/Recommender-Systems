{
 "cells": [
  {
   "cell_type": "code",
   "execution_count": 53,
   "metadata": {},
   "outputs": [],
   "source": [
    "import pandas as pd\n",
    "import numpy as np\n",
    "import matplotlib.pyplot as plt\n",
    "from collections import defaultdict\n",
    "import operator\n",
    "from scipy import spatial\n",
    "from math import log\n",
    "from random import shuffle\n",
    "from sklearn.model_selection import train_test_split\n",
    "import string\n",
    "from sklearn.svm import LinearSVC\n",
    "from sklearn.multiclass import OneVsRestClassifier"
   ]
  },
  {
   "cell_type": "code",
   "execution_count": 26,
   "metadata": {},
   "outputs": [
    {
     "name": "stdout",
     "output_type": "stream",
     "text": [
      "Number of unique movies in the dataset: 58098\n",
      "\n",
      "List of possible genres in the dataset:\n",
      "(no genres listed), Action, Adventure, Animation, Children, Comedy, Crime, Documentary, Drama, Fantasy, Film-Noir, Horror, IMAX, Musical, Mystery, Romance, Sci-Fi, Thriller, War, Western\n",
      "\n",
      "\n",
      "Number of users in the dataset: 283228\n",
      "Number of ratings in the dataset: 27753444\n"
     ]
    }
   ],
   "source": [
    "movie_data = pd.read_csv('data/movies.csv')\n",
    "movies = movie_data['movieId'].unique().tolist()\n",
    "print('Number of unique movies in the dataset: {}\\n'.format(len(movies)))\n",
    "\n",
    "genres = movie_data['genres'].unique().tolist()\n",
    "unique_genres = set()\n",
    "for genre_list in genres:\n",
    "    sp = genre_list.split('|')\n",
    "    for gen in sp:\n",
    "        unique_genres.add(gen)\n",
    "print('List of possible genres in the dataset:')\n",
    "for genre in sorted(unique_genres)[:len(unique_genres)-1]:\n",
    "    print(genre, end=', ')\n",
    "print(sorted(unique_genres)[len(unique_genres)-1])\n",
    "    \n",
    "rating_data = pd.read_csv('data/ratings.csv')\n",
    "unique_users = rating_data['userId'].unique().tolist()\n",
    "print('\\n\\nNumber of users in the dataset: {}'.format(len(unique_users)))\n",
    "print('Number of ratings in the dataset: {}'.format(len(rating_data['userId'].tolist())))"
   ]
  },
  {
   "cell_type": "code",
   "execution_count": 9,
   "metadata": {},
   "outputs": [
    {
     "name": "stdout",
     "output_type": "stream",
     "text": [
      "Top 5 most watched movie categories are:\n",
      "Drama\n",
      "Comedy\n",
      "Action\n",
      "Thriller\n",
      "Adventure\n"
     ]
    }
   ],
   "source": [
    "movie_categories = dict()\n",
    "\n",
    "id_genres = movie_data[['movieId','genres']].values\n",
    "for pair in id_genres:\n",
    "    movie_categories[pair[0]] = pair[1].split('|')\n",
    "\n",
    "rating_movies = rating_data[['movieId']].values\n",
    "category_counts = defaultdict(int)\n",
    "for movie in rating_movies:\n",
    "    for cat in movie_categories[movie[0]]:\n",
    "        category_counts[cat] += 1\n",
    "category_counts_list = list(category_counts.items())\n",
    "category_counts_list.sort(key=operator.itemgetter(1))\n",
    "category_counts_list.reverse()\n",
    "print('Top 5 most watched movie categories are:')\n",
    "top_categories = []\n",
    "for i in range(5):\n",
    "    top_categories.append(category_counts_list[i][0])\n",
    "    print('{}'.format(category_counts_list[i][0]))"
   ]
  },
  {
   "cell_type": "code",
   "execution_count": 10,
   "metadata": {},
   "outputs": [],
   "source": [
    "movie_tags = pd.read_csv('data/tags.csv')\n",
    "movie_tags.drop(columns=['timestamp'],inplace=True)\n",
    "movie_tags.drop_duplicates(inplace=True)"
   ]
  },
  {
   "cell_type": "code",
   "execution_count": 11,
   "metadata": {},
   "outputs": [],
   "source": [
    "movie_tag_counts = defaultdict(list)\n",
    "movie_tags_list = list(movie_tags[['movieId','tag']].values)\n",
    "shuffle(movie_tags_list)\n",
    "movie_genre_test = movie_tags_list[round(len(movie_tags_list) * 0.9):]\n",
    "movie_tags_list = movie_tags_list[:round(len(movie_tags_list) * 0.9)]\n",
    "translator = str.maketrans('','',string.punctuation)\n",
    "for pair in movie_tags_list:\n",
    "    if isinstance(pair[1],str):\n",
    "        for tag in (pair[1].translate(translator)).lower().split():\n",
    "            movie_tag_counts[pair[0]].append(tag)\n",
    "def get_defaultdict_int():\n",
    "    return defaultdict(int)\n"
   ]
  },
  {
   "cell_type": "code",
   "execution_count": 28,
   "metadata": {},
   "outputs": [
    {
     "name": "stdout",
     "output_type": "stream",
     "text": [
      "Drama\n",
      "[('tarantino', 0.000602792074558795), ('leonardo', 0.0005404502271375273), ('dicaprio', 0.0005165027850488554), ('quentin', 0.00043649655807079246), ('hanks', 0.0003467441612516442), ('austen', 0.00032399944323757164), ('coen', 0.0003149682872754506), ('pacino', 0.00031430379048194123), ('gosling', 0.0003097173004475742), ('turing', 0.0002867089984020358)]\n",
      "Comedy\n",
      "[('standup', 0.0013303353368161667), ('pixar', 0.000882188603337392), ('tarantino', 0.0006424902284362475), ('coen', 0.0006210985889276307), ('monty', 0.0005783424451774059), ('sandler', 0.00048338271555121586), ('carell', 0.00045346629367054), ('quentin', 0.0004326594275085522), ('carrey', 0.0004135219799863888), ('wes', 0.00040189694527743955)]\n",
      "Action\n",
      "[('marvel', 0.0011110450737873386), ('tarantino', 0.0010121957050451004), ('quentin', 0.0007539178194794836), ('wars', 0.0006294883444200047), ('007', 0.0006191353426588836), ('mcu', 0.000514963364370246), ('schwarzenegger', 0.0005068533301141958), ('bond', 0.0005063079845493608), ('arnold', 0.0004893130312218297), ('futuristic', 0.0004772749392814953)]\n",
      "Thriller\n",
      "[('tarantino', 0.001415975746573498), ('quentin', 0.000990504471862273), ('complicated', 0.0006068623948670447), ('007', 0.0005792987752885505), ('turing', 0.0005400670736716739), ('leonardo', 0.0004489336814915338), ('dicaprio', 0.00044486172066167867), ('bond', 0.0004405274073038117), ('psychothriller', 0.00043530457986593627), ('neonoir', 0.0004037320654740478)]\n",
      "Adventure\n",
      "[('pixar', 0.0015580771335106484), ('marvel', 0.0012451124696312248), ('wars', 0.0008824689259372615), ('007', 0.0008478527248012015), ('ghibli', 0.0007434627142194333), ('hayao', 0.0007421312240429235), ('tolkien', 0.0007011160531351084), ('bond', 0.0006894664843518699), ('mcu', 0.0006244502608059643), ('space', 0.0006184581164209975)]\n"
     ]
    }
   ],
   "source": [
    "def get_defaultdict_float():\n",
    "    return defaultdict(float)\n",
    "category_tags = defaultdict(get_defaultdict_int)\n",
    "for movie in movie_tag_counts:\n",
    "    for category in movie_categories[movie]:\n",
    "        for tag in movie_tag_counts[movie]:\n",
    "            category_tags[category][tag] += 1\n",
    "category_totals = dict()\n",
    "for category in category_tags:\n",
    "    total = 0\n",
    "    for tag in category_tags[category]:\n",
    "        total += category_tags[category][tag]\n",
    "    category_totals[category] = total\n",
    "\n",
    "category_tf_scores = defaultdict(get_defaultdict_float)\n",
    "for category in category_tags:\n",
    "    for tag in category_tags[category]:\n",
    "        category_tf_scores[category][tag] = category_tags[category][tag] / category_totals[category]\n",
    "unique_tags = set()\n",
    "\n",
    "for category in category_tf_scores:\n",
    "    for tag in category_tf_scores[category]:\n",
    "        unique_tags.add(tag)\n",
    "tag_idf_scores = defaultdict(float)\n",
    "\n",
    "for tag in list(unique_tags):\n",
    "    doc_count = 0\n",
    "    for category in category_tf_scores:\n",
    "        if tag in category_tf_scores[category]:\n",
    "            doc_count += 1\n",
    "    tag_idf_scores[tag] = log(len(category_tf_scores)/doc_count)\n",
    "    \n",
    "tag_tfidf_scores = defaultdict(get_defaultdict_float)\n",
    "for category in category_tags:\n",
    "    for tag in list(unique_tags):\n",
    "        tag_tfidf_scores[category][tag] = category_tf_scores[category][tag] * tag_idf_scores[tag]\n",
    "\n",
    "for cat in top_categories:\n",
    "    tags = list(tag_tfidf_scores[cat].items())\n",
    "    tags.sort(key=operator.itemgetter(1))\n",
    "    tags.reverse()\n",
    "    print(cat)\n",
    "    print(tags[:10])"
   ]
  },
  {
   "cell_type": "code",
   "execution_count": 47,
   "metadata": {},
   "outputs": [],
   "source": [
    "all_categories = [category[0] for category in category_counts_list]\n",
    "\n",
    "\n",
    "\n",
    "check_words = []\n",
    "for cat in top_categories:\n",
    "    tags = list(tag_tfidf_scores[cat].items())\n",
    "    tags.sort(key=operator.itemgetter(1))\n",
    "    tags.reverse()\n",
    "    for i in range(10):\n",
    "        check_words.append(tags[i][0])\n",
    "\n",
    "movie_tag_pairs = movie_tags[['movieId','tag']].values\n",
    "train,test = train_test_split(movie_tag_pairs)\n",
    "        \n",
    "def get_features(data,train=True):\n",
    "    X = []\n",
    "    y = []\n",
    "    genre_list = []\n",
    "    for datum in data:\n",
    "        feature = []\n",
    "        feature.append(1)\n",
    "        movie_id = datum[0]\n",
    "        tags = (str(datum[1]).translate(translator)).lower()\n",
    "        for word in check_words:\n",
    "            feature.append(word in tags)\n",
    "        genres = movie_categories[movie_id]\n",
    "        if not train:\n",
    "            X.append(feature)\n",
    "            genre_list.append(genres)\n",
    "        for genre in genres:\n",
    "            if train:\n",
    "                X.append(feature)\n",
    "            y.append(all_categories.index(genre))\n",
    "    if train:\n",
    "        return X,y\n",
    "    else:\n",
    "        return X,genre_list\n",
    "\n",
    "X_train, y_train = get_features(train)\n",
    "X_test, genres = get_features(test,False)"
   ]
  },
  {
   "cell_type": "code",
   "execution_count": null,
   "metadata": {},
   "outputs": [],
   "source": [
    "ovr = OneVsRestClassifier(LinearSVC(),n_jobs=2)\n",
    "ovr.fit(X_train,y_train)"
   ]
  },
  {
   "cell_type": "code",
   "execution_count": 31,
   "metadata": {},
   "outputs": [],
   "source": [
    "if 'timestamp' in rating_data.columns:\n",
    "    rating_data.drop(columns=['timestamp'],inplace=True)\n",
    "ratings = rating_data.values"
   ]
  },
  {
   "cell_type": "code",
   "execution_count": 39,
   "metadata": {},
   "outputs": [
    {
     "data": {
      "text/plain": [
       "array([[110, 'epic'],\n",
       "       [110, 'Medieval'],\n",
       "       [260, 'sci-fi'],\n",
       "       ...,\n",
       "       [73017, 'pacing'],\n",
       "       [73017, 'plot'],\n",
       "       [49651, 'Sylvester Stallone']], dtype=object)"
      ]
     },
     "execution_count": 39,
     "metadata": {},
     "output_type": "execute_result"
    }
   ],
   "source": []
  }
 ],
 "metadata": {
  "kernelspec": {
   "display_name": "Python 3",
   "language": "python",
   "name": "python3"
  },
  "language_info": {
   "codemirror_mode": {
    "name": "ipython",
    "version": 3
   },
   "file_extension": ".py",
   "mimetype": "text/x-python",
   "name": "python",
   "nbconvert_exporter": "python",
   "pygments_lexer": "ipython3",
   "version": "3.7.1"
  }
 },
 "nbformat": 4,
 "nbformat_minor": 2
}
