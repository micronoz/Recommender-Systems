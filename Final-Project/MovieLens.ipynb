{
 "cells": [
  {
   "cell_type": "code",
   "execution_count": 7,
   "metadata": {},
   "outputs": [],
   "source": [
    "import pandas as pd\n",
    "import numpy as np\n",
    "import matplotlib.pyplot as plt\n",
    "from collections import defaultdict\n",
    "import operator\n",
    "from surprise import SVDpp\n",
    "from surprise.model_selection import cross_validate"
    "from scipy import spatial\n",
    "from math import log\n",
    "from random import shuffle"
   ]
  },
  {
   "cell_type": "code",
   "execution_count": 23,
   "metadata": {},
   "outputs": [
    {
     "name": "stdout",
     "output_type": "stream",
     "text": [
      "Number of unique movies in the dataset: 58098\n",
      "\n",
      "List of possible genres in the dataset:\n",
      "(no genres listed), Action, Adventure, Animation, Children, Comedy, Crime, Documentary, Drama, Fantasy, Film-Noir, Horror, IMAX, Musical, Mystery, Romance, Sci-Fi, Thriller, War, Western\n",
      "\n",
      "\n",
      "Number of users in the dataset: 283228\n",
      "Number of ratings in the dataset: 27753444\n"
     ]
    }
   ],
   "source": [
    "movie_data = pd.read_csv('data/movies.csv')\n",
    "movies = movie_data['movieId'].unique().tolist()\n",
    "print('Number of unique movies in the dataset: {}\\n'.format(len(movies)))\n",
    "\n",
    "genres = movie_data['genres'].unique().tolist()\n",
    "unique_genres = set()\n",
    "for genre_list in genres:\n",
    "    sp = genre_list.split('|')\n",
    "    for gen in sp:\n",
    "        unique_genres.add(gen)\n",
    "print('List of possible genres in the dataset:')\n",
    "for genre in sorted(unique_genres)[:len(unique_genres)-1]:\n",
    "    print(genre, end=', ')\n",
    "print(sorted(unique_genres)[len(unique_genres)-1])\n",
    "    \n",
    "rating_data = pd.read_csv('data/ratings.csv')\n",
    "unique_users = rating_data['userId'].unique().tolist()\n",
    "print('\\n\\nNumber of users in the dataset: {}'.format(len(unique_users)))\n",
    "print('Number of ratings in the dataset: {}'.format(len(rating_data['userId'].tolist())))"
   ]
  },
  {
   "cell_type": "code",
   "execution_count": 3,
   "metadata": {},
   "outputs": [
    {
     "name": "stdout",
     "output_type": "stream",
     "text": [
      "Top 5 most watched movie categories are:\n",
      "Drama with count 12191048\n",
      "Comedy with count 9999184\n",
      "Action with count 8214956\n",
      "Thriller with count 7489628\n",
      "Adventure with count 6452309\n"
     ]
    }
   ],
   "source": [
    "movie_categories = dict()\n",
    "\n",
    "id_genres = movie_data[['movieId','genres']].values\n",
    "for pair in id_genres:\n",
    "    movie_categories[pair[0]] = pair[1].split('|')\n",
    "\n",
    "rating_movies = rating_data[['movieId']].values\n",
    "category_counts = defaultdict(int)\n",
    "for movie in rating_movies:\n",
    "    for cat in movie_categories[movie[0]]:\n",
    "        category_counts[cat] += 1\n",
    "category_counts_list = list(category_counts.items())\n",
    "category_counts_list.sort(key=operator.itemgetter(1))\n",
    "category_counts_list.reverse()\n",
    "print('Top 5 most watched movie categories are:')\n",
    "top_categories = []\n",
    "for i in range(5):\n",
    "    top_categories.append(category_counts_list[i][0])\n",
    "    print('{}'.format(category_counts_list[i][0]))"
   ]
  },
  {
   "cell_type": "code",
   "execution_count": 17,
   "metadata": {},
   "outputs": [],
   "source": [
    "movie_tags = pd.read_csv('data/tags.csv')\n",
    "movie_tags.drop(columns=['timestamp'],inplace=True)\n",
    "movie_tags.drop_duplicates(inplace=True)"
   ]
  },
  {
   "cell_type": "code",
   "execution_count": 72,
   "metadata": {},
   "outputs": [],
   "source": [
    "movie_tag_counts = defaultdict(list)\n",
    "movie_tags_list = list(movie_tags[['movieId','tag']].values)\n",
    "shuffle(movie_tags_list)\n",
    "movie_genre_test = movie_tags_list[round(len(movie_tags_list) * 0.9):]\n",
    "movie_tags_list = movie_tags_list[:round(len(movie_tags_list) * 0.9)]\n",
    "for pair in movie_tags_list:\n",
    "    if isinstance(pair[1],str):\n",
    "        for tag in pair[1].lower().split():\n",
    "            movie_tag_counts[pair[0]].append(tag)\n",
    "def get_defaultdict_int():\n",
    "    return defaultdict(int)\n"
   ]
  },
  {
   "cell_type": "code",
   "execution_count": 8,
   "metadata": {},
   "outputs": [
    {
     "ename": "AttributeError",
     "evalue": "'DataFrame' object has no attribute 'raw_ratings'",
     "output_type": "error",
     "traceback": [
      "\u001b[0;31m---------------------------------------------------------------------------\u001b[0m",
      "\u001b[0;31mAttributeError\u001b[0m                            Traceback (most recent call last)",
      "\u001b[0;32m<ipython-input-8-597480ce0d0f>\u001b[0m in \u001b[0;36m<module>\u001b[0;34m\u001b[0m\n\u001b[1;32m      1\u001b[0m \u001b[0malgo\u001b[0m \u001b[0;34m=\u001b[0m \u001b[0mSVDpp\u001b[0m\u001b[0;34m(\u001b[0m\u001b[0;34m)\u001b[0m\u001b[0;34m\u001b[0m\u001b[0m\n\u001b[0;32m----> 2\u001b[0;31m \u001b[0mcross_validate\u001b[0m\u001b[0;34m(\u001b[0m\u001b[0malgo\u001b[0m\u001b[0;34m,\u001b[0m\u001b[0mmovie_data\u001b[0m\u001b[0;34m)\u001b[0m\u001b[0;34m\u001b[0m\u001b[0m\n\u001b[0m",
      "\u001b[0;32m~/.conda/envs/CSE158/lib/python3.7/site-packages/surprise/model_selection/validation.py\u001b[0m in \u001b[0;36mcross_validate\u001b[0;34m(algo, data, measures, cv, return_train_measures, n_jobs, pre_dispatch, verbose)\u001b[0m\n\u001b[1;32m     99\u001b[0m                                            return_train_measures)\n\u001b[1;32m    100\u001b[0m                     for (trainset, testset) in cv.split(data))\n\u001b[0;32m--> 101\u001b[0;31m     \u001b[0mout\u001b[0m \u001b[0;34m=\u001b[0m \u001b[0mParallel\u001b[0m\u001b[0;34m(\u001b[0m\u001b[0mn_jobs\u001b[0m\u001b[0;34m=\u001b[0m\u001b[0mn_jobs\u001b[0m\u001b[0;34m,\u001b[0m \u001b[0mpre_dispatch\u001b[0m\u001b[0;34m=\u001b[0m\u001b[0mpre_dispatch\u001b[0m\u001b[0;34m)\u001b[0m\u001b[0;34m(\u001b[0m\u001b[0mdelayed_list\u001b[0m\u001b[0;34m)\u001b[0m\u001b[0;34m\u001b[0m\u001b[0m\n\u001b[0m\u001b[1;32m    102\u001b[0m \u001b[0;34m\u001b[0m\u001b[0m\n\u001b[1;32m    103\u001b[0m     (test_measures_dicts,\n",
      "\u001b[0;32m~/.conda/envs/CSE158/lib/python3.7/site-packages/joblib/parallel.py\u001b[0m in \u001b[0;36m__call__\u001b[0;34m(self, iterable)\u001b[0m\n\u001b[1;32m    915\u001b[0m             \u001b[0;31m# remaining jobs.\u001b[0m\u001b[0;34m\u001b[0m\u001b[0;34m\u001b[0m\u001b[0m\n\u001b[1;32m    916\u001b[0m             \u001b[0mself\u001b[0m\u001b[0;34m.\u001b[0m\u001b[0m_iterating\u001b[0m \u001b[0;34m=\u001b[0m \u001b[0;32mFalse\u001b[0m\u001b[0;34m\u001b[0m\u001b[0m\n\u001b[0;32m--> 917\u001b[0;31m             \u001b[0;32mif\u001b[0m \u001b[0mself\u001b[0m\u001b[0;34m.\u001b[0m\u001b[0mdispatch_one_batch\u001b[0m\u001b[0;34m(\u001b[0m\u001b[0miterator\u001b[0m\u001b[0;34m)\u001b[0m\u001b[0;34m:\u001b[0m\u001b[0;34m\u001b[0m\u001b[0m\n\u001b[0m\u001b[1;32m    918\u001b[0m                 \u001b[0mself\u001b[0m\u001b[0;34m.\u001b[0m\u001b[0m_iterating\u001b[0m \u001b[0;34m=\u001b[0m \u001b[0mself\u001b[0m\u001b[0;34m.\u001b[0m\u001b[0m_original_iterator\u001b[0m \u001b[0;32mis\u001b[0m \u001b[0;32mnot\u001b[0m \u001b[0;32mNone\u001b[0m\u001b[0;34m\u001b[0m\u001b[0m\n\u001b[1;32m    919\u001b[0m \u001b[0;34m\u001b[0m\u001b[0m\n",
      "\u001b[0;32m~/.conda/envs/CSE158/lib/python3.7/site-packages/joblib/parallel.py\u001b[0m in \u001b[0;36mdispatch_one_batch\u001b[0;34m(self, iterator)\u001b[0m\n\u001b[1;32m    752\u001b[0m             tasks = BatchedCalls(itertools.islice(iterator, batch_size),\n\u001b[1;32m    753\u001b[0m                                  \u001b[0mself\u001b[0m\u001b[0;34m.\u001b[0m\u001b[0m_backend\u001b[0m\u001b[0;34m.\u001b[0m\u001b[0mget_nested_backend\u001b[0m\u001b[0;34m(\u001b[0m\u001b[0;34m)\u001b[0m\u001b[0;34m,\u001b[0m\u001b[0;34m\u001b[0m\u001b[0m\n\u001b[0;32m--> 754\u001b[0;31m                                  self._pickle_cache)\n\u001b[0m\u001b[1;32m    755\u001b[0m             \u001b[0;32mif\u001b[0m \u001b[0mlen\u001b[0m\u001b[0;34m(\u001b[0m\u001b[0mtasks\u001b[0m\u001b[0;34m)\u001b[0m \u001b[0;34m==\u001b[0m \u001b[0;36m0\u001b[0m\u001b[0;34m:\u001b[0m\u001b[0;34m\u001b[0m\u001b[0m\n\u001b[1;32m    756\u001b[0m                 \u001b[0;31m# No more tasks available in the iterator: tell caller to stop.\u001b[0m\u001b[0;34m\u001b[0m\u001b[0;34m\u001b[0m\u001b[0m\n",
      "\u001b[0;32m~/.conda/envs/CSE158/lib/python3.7/site-packages/joblib/parallel.py\u001b[0m in \u001b[0;36m__init__\u001b[0;34m(self, iterator_slice, backend_and_jobs, pickle_cache)\u001b[0m\n\u001b[1;32m    208\u001b[0m \u001b[0;34m\u001b[0m\u001b[0m\n\u001b[1;32m    209\u001b[0m     \u001b[0;32mdef\u001b[0m \u001b[0m__init__\u001b[0m\u001b[0;34m(\u001b[0m\u001b[0mself\u001b[0m\u001b[0;34m,\u001b[0m \u001b[0miterator_slice\u001b[0m\u001b[0;34m,\u001b[0m \u001b[0mbackend_and_jobs\u001b[0m\u001b[0;34m,\u001b[0m \u001b[0mpickle_cache\u001b[0m\u001b[0;34m=\u001b[0m\u001b[0;32mNone\u001b[0m\u001b[0;34m)\u001b[0m\u001b[0;34m:\u001b[0m\u001b[0;34m\u001b[0m\u001b[0m\n\u001b[0;32m--> 210\u001b[0;31m         \u001b[0mself\u001b[0m\u001b[0;34m.\u001b[0m\u001b[0mitems\u001b[0m \u001b[0;34m=\u001b[0m \u001b[0mlist\u001b[0m\u001b[0;34m(\u001b[0m\u001b[0miterator_slice\u001b[0m\u001b[0;34m)\u001b[0m\u001b[0;34m\u001b[0m\u001b[0m\n\u001b[0m\u001b[1;32m    211\u001b[0m         \u001b[0mself\u001b[0m\u001b[0;34m.\u001b[0m\u001b[0m_size\u001b[0m \u001b[0;34m=\u001b[0m \u001b[0mlen\u001b[0m\u001b[0;34m(\u001b[0m\u001b[0mself\u001b[0m\u001b[0;34m.\u001b[0m\u001b[0mitems\u001b[0m\u001b[0;34m)\u001b[0m\u001b[0;34m\u001b[0m\u001b[0m\n\u001b[1;32m    212\u001b[0m         \u001b[0;32mif\u001b[0m \u001b[0misinstance\u001b[0m\u001b[0;34m(\u001b[0m\u001b[0mbackend_and_jobs\u001b[0m\u001b[0;34m,\u001b[0m \u001b[0mtuple\u001b[0m\u001b[0;34m)\u001b[0m\u001b[0;34m:\u001b[0m\u001b[0;34m\u001b[0m\u001b[0m\n",
      "\u001b[0;32m~/.conda/envs/CSE158/lib/python3.7/site-packages/surprise/model_selection/validation.py\u001b[0m in \u001b[0;36m<genexpr>\u001b[0;34m(.0)\u001b[0m\n\u001b[1;32m     96\u001b[0m     \u001b[0mcv\u001b[0m \u001b[0;34m=\u001b[0m \u001b[0mget_cv\u001b[0m\u001b[0;34m(\u001b[0m\u001b[0mcv\u001b[0m\u001b[0;34m)\u001b[0m\u001b[0;34m\u001b[0m\u001b[0m\n\u001b[1;32m     97\u001b[0m \u001b[0;34m\u001b[0m\u001b[0m\n\u001b[0;32m---> 98\u001b[0;31m     delayed_list = (delayed(fit_and_score)(algo, trainset, testset, measures,\n\u001b[0m\u001b[1;32m     99\u001b[0m                                            return_train_measures)\n\u001b[1;32m    100\u001b[0m                     for (trainset, testset) in cv.split(data))\n",
      "\u001b[0;32m~/.conda/envs/CSE158/lib/python3.7/site-packages/surprise/model_selection/split.py\u001b[0m in \u001b[0;36msplit\u001b[0;34m(self, data)\u001b[0m\n\u001b[1;32m     93\u001b[0m         '''\n\u001b[1;32m     94\u001b[0m \u001b[0;34m\u001b[0m\u001b[0m\n\u001b[0;32m---> 95\u001b[0;31m         \u001b[0;32mif\u001b[0m \u001b[0mself\u001b[0m\u001b[0;34m.\u001b[0m\u001b[0mn_splits\u001b[0m \u001b[0;34m>\u001b[0m \u001b[0mlen\u001b[0m\u001b[0;34m(\u001b[0m\u001b[0mdata\u001b[0m\u001b[0;34m.\u001b[0m\u001b[0mraw_ratings\u001b[0m\u001b[0;34m)\u001b[0m \u001b[0;32mor\u001b[0m \u001b[0mself\u001b[0m\u001b[0;34m.\u001b[0m\u001b[0mn_splits\u001b[0m \u001b[0;34m<\u001b[0m \u001b[0;36m2\u001b[0m\u001b[0;34m:\u001b[0m\u001b[0;34m\u001b[0m\u001b[0m\n\u001b[0m\u001b[1;32m     96\u001b[0m             raise ValueError('Incorrect value for n_splits={0}. '\n\u001b[1;32m     97\u001b[0m                              \u001b[0;34m'Must be >=2 and less than the number '\u001b[0m\u001b[0;34m\u001b[0m\u001b[0m\n",
      "\u001b[0;32m~/.conda/envs/CSE158/lib/python3.7/site-packages/pandas/core/generic.py\u001b[0m in \u001b[0;36m__getattr__\u001b[0;34m(self, name)\u001b[0m\n\u001b[1;32m   4374\u001b[0m             \u001b[0;32mif\u001b[0m \u001b[0mself\u001b[0m\u001b[0;34m.\u001b[0m\u001b[0m_info_axis\u001b[0m\u001b[0;34m.\u001b[0m\u001b[0m_can_hold_identifiers_and_holds_name\u001b[0m\u001b[0;34m(\u001b[0m\u001b[0mname\u001b[0m\u001b[0;34m)\u001b[0m\u001b[0;34m:\u001b[0m\u001b[0;34m\u001b[0m\u001b[0m\n\u001b[1;32m   4375\u001b[0m                 \u001b[0;32mreturn\u001b[0m \u001b[0mself\u001b[0m\u001b[0;34m[\u001b[0m\u001b[0mname\u001b[0m\u001b[0;34m]\u001b[0m\u001b[0;34m\u001b[0m\u001b[0m\n\u001b[0;32m-> 4376\u001b[0;31m             \u001b[0;32mreturn\u001b[0m \u001b[0mobject\u001b[0m\u001b[0;34m.\u001b[0m\u001b[0m__getattribute__\u001b[0m\u001b[0;34m(\u001b[0m\u001b[0mself\u001b[0m\u001b[0;34m,\u001b[0m \u001b[0mname\u001b[0m\u001b[0;34m)\u001b[0m\u001b[0;34m\u001b[0m\u001b[0m\n\u001b[0m\u001b[1;32m   4377\u001b[0m \u001b[0;34m\u001b[0m\u001b[0m\n\u001b[1;32m   4378\u001b[0m     \u001b[0;32mdef\u001b[0m \u001b[0m__setattr__\u001b[0m\u001b[0;34m(\u001b[0m\u001b[0mself\u001b[0m\u001b[0;34m,\u001b[0m \u001b[0mname\u001b[0m\u001b[0;34m,\u001b[0m \u001b[0mvalue\u001b[0m\u001b[0;34m)\u001b[0m\u001b[0;34m:\u001b[0m\u001b[0;34m\u001b[0m\u001b[0m\n",
      "\u001b[0;31mAttributeError\u001b[0m: 'DataFrame' object has no attribute 'raw_ratings'"

     ]
    }
   ],
   "source": [
    "def get_defaultdict_float():\n",
    "    return defaultdict(float)\n",
    "category_tags = defaultdict(get_defaultdict_int)\n",
    "for movie in movie_tag_counts:\n",
    "    for category in movie_categories[movie]:\n",
    "        for tag in movie_tag_counts[movie]:\n",
    "            category_tags[category][tag] += 1\n",
    "category_totals = dict()\n",
    "for category in category_tags:\n",
    "    total = 0\n",
    "    for tag in category_tags[category]:\n",
    "        total += category_tags[category][tag]\n",
    "    category_totals[category] = total\n",
    "\n",
    "category_tf_scores = defaultdict(get_defaultdict_float)\n",
    "for category in category_tags:\n",
    "    for tag in category_tags[category]:\n",
    "        category_tf_scores[category][tag] = category_tags[category][tag] / category_totals[category]\n",
    "unique_tags = set()\n",
    "\n",
    "for category in category_tf_scores:\n",
    "    for tag in category_tf_scores[category]:\n",
    "        unique_tags.add(tag)\n",
    "tag_idf_scores = defaultdict(float)\n",
    "\n",
    "for tag in list(unique_tags):\n",
    "    doc_count = 0\n",
    "    for category in category_tf_scores:\n",
    "        if tag in category_tf_scores[category]:\n",
    "            doc_count += 1\n",
    "    tag_idf_scores[tag] = log(len(category_tf_scores)/doc_count)\n",
    "    \n",
    "tag_tfidf_scores = defaultdict(get_defaultdict_float)\n",
    "for category in category_tags:\n",
    "    for tag in list(unique_tags):\n",
    "        tag_tfidf_scores[category][tag] = category_tf_scores[category][tag] * tag_idf_scores[tag]\n",
    "\n",
    "for cat in top_categories:\n",
    "    tags = list(tag_tfidf_scores[cat].items())\n",
    "    tags.sort(key=operator.itemgetter(1))\n",
    "    tags.reverse()\n",
    "    print(cat)\n",
    "    print(tags[:10])"
   ]
  },
  {
   "cell_type": "code",
   "execution_count": 75,
   "metadata": {},
   "outputs": [
    {
     "data": {
      "text/plain": [
       "array([6120, 'campy'], dtype=object)"
      ]
     },
     "execution_count": 75,
     "metadata": {},
     "output_type": "execute_result"
    }
   ],
   "source": [
    "movie_tags_list[0]"
   ]
  },
  {
   "cell_type": "code",
   "execution_count": null,
   "metadata": {},
   "outputs": [],
   "source": []
  }
 ],
 "metadata": {
  "kernelspec": {
   "display_name": "Python 3",
   "language": "python",
   "name": "python3"
  },
  "language_info": {
   "codemirror_mode": {
    "name": "ipython",
    "version": 3
   },
   "file_extension": ".py",
   "mimetype": "text/x-python",
   "name": "python",
   "nbconvert_exporter": "python",
   "pygments_lexer": "ipython3",
   "version": "3.7.0"
  }
 },
 "nbformat": 4,
 "nbformat_minor": 2
}
