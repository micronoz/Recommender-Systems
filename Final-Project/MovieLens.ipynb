{
 "cells": [
  {
   "cell_type": "code",
   "execution_count": 1,
   "metadata": {},
   "outputs": [],
   "source": [
    "import pandas as pd\n",
    "import numpy as np\n",
    "import matplotlib.pyplot as plt\n",
    "from collections import defaultdict\n",
    "import operator\n",
    "from scipy import spatial\n",
    "from math import log\n",
    "from random import shuffle\n",
    "from sklearn.model_selection import train_test_split\n",
    "import string\n",
    "from sklearn.svm import LinearSVC,SVC\n",
    "from sklearn.multiclass import OneVsRestClassifier"
   ]
  },
  {
   "cell_type": "code",
   "execution_count": 2,
   "metadata": {},
   "outputs": [
    {
     "name": "stdout",
     "output_type": "stream",
     "text": [
      "Number of unique movies in the dataset: 58098\n",
      "\n",
      "List of possible genres in the dataset:\n",
      "(no genres listed), Action, Adventure, Animation, Children, Comedy, Crime, Documentary, Drama, Fantasy, Film-Noir, Horror, IMAX, Musical, Mystery, Romance, Sci-Fi, Thriller, War, Western\n",
      "\n",
      "\n",
      "Number of users in the dataset: 283228\n",
      "Number of ratings in the dataset: 27753444\n"
     ]
    }
   ],
   "source": [
    "movie_data = pd.read_csv('data/movies.csv')\n",
    "movies = movie_data['movieId'].unique().tolist()\n",
    "print('Number of unique movies in the dataset: {}\\n'.format(len(movies)))\n",
    "\n",
    "genres = movie_data['genres'].unique().tolist()\n",
    "unique_genres = set()\n",
    "for genre_list in genres:\n",
    "    sp = genre_list.split('|')\n",
    "    for gen in sp:\n",
    "        unique_genres.add(gen)\n",
    "print('List of possible genres in the dataset:')\n",
    "for genre in sorted(unique_genres)[:len(unique_genres)-1]:\n",
    "    print(genre, end=', ')\n",
    "print(sorted(unique_genres)[len(unique_genres)-1])\n",
    "    \n",
    "rating_data = pd.read_csv('data/ratings.csv')\n",
    "unique_users = rating_data['userId'].unique().tolist()\n",
    "print('\\n\\nNumber of users in the dataset: {}'.format(len(unique_users)))\n",
    "print('Number of ratings in the dataset: {}'.format(len(rating_data['userId'].tolist())))"
   ]
  },
  {
   "cell_type": "code",
   "execution_count": 3,
   "metadata": {},
   "outputs": [
    {
     "name": "stdout",
     "output_type": "stream",
     "text": [
      "Top 5 most watched movie categories are:\n",
      "Drama\n",
      "Comedy\n",
      "Action\n",
      "Thriller\n",
      "Adventure\n"
     ]
    }
   ],
   "source": [
    "movie_categories = dict()\n",
    "\n",
    "id_genres = movie_data[['movieId','genres']].values\n",
    "for pair in id_genres:\n",
    "    movie_categories[pair[0]] = pair[1].split('|')\n",
    "\n",
    "rating_movies = rating_data[['movieId']].values\n",
    "category_counts = defaultdict(int)\n",
    "for movie in rating_movies:\n",
    "    for cat in movie_categories[movie[0]]:\n",
    "        category_counts[cat] += 1\n",
    "category_counts_list = list(category_counts.items())\n",
    "category_counts_list.sort(key=operator.itemgetter(1))\n",
    "category_counts_list.reverse()\n",
    "print('Top 5 most watched movie categories are:')\n",
    "top_categories = []\n",
    "for i in range(5):\n",
    "    top_categories.append(category_counts_list[i][0])\n",
    "    print('{}'.format(category_counts_list[i][0]))"
   ]
  },
  {
   "cell_type": "code",
   "execution_count": 4,
   "metadata": {},
   "outputs": [],
   "source": [
    "movie_tags = pd.read_csv('data/tags.csv')\n",
    "movie_tags.drop(columns=['timestamp'],inplace=True)\n",
    "movie_tags.drop_duplicates(inplace=True)"
   ]
  },
  {
   "cell_type": "code",
   "execution_count": null,
   "metadata": {},
   "outputs": [],
   "source": [
    "movie_tag_counts = defaultdict(list)\n",
    "movie_tags_list = list(movie_tags[['movieId','tag']].values)\n",
    "translator = str.maketrans('','',string.punctuation)\n",
    "for pair in movie_tags_list:\n",
    "    if isinstance(pair[1],str):\n",
    "        for tag in (pair[1].translate(translator)).lower().split():\n",
    "            movie_tag_counts[pair[0]].append(tag)\n",
    "def get_defaultdict_int():\n",
    "    return defaultdict(int)\n"
   ]
  },
  {
   "cell_type": "code",
   "execution_count": null,
   "metadata": {},
   "outputs": [
    {
     "name": "stdout",
     "output_type": "stream",
     "text": [
      "Drama\n",
      "[('tarantino', 0.0005907130261114323), ('leonardo', 0.0005397877037710381), ('dicaprio', 0.0005152964286453104), ('quentin', 0.0004261481871876616), ('hanks', 0.0003470652272313522), ('austen', 0.0003381400022610485), ('coen', 0.000317455307168331), ('pacino', 0.0003165571280538158), ('gosling', 0.0003050712662163587), ('turing', 0.0002836539571093299)]\n",
      "Comedy\n",
      "[('standup', 0.0011488578738269848), ('pixar', 0.0008920472381109916), ('tarantino', 0.0006310776892174036), ('coen', 0.0006022585200965764), ('monty', 0.0005754926948416957), ('carell', 0.00047126284165159457), ('sandler', 0.000465944863284594), ('quentin', 0.0004232536445091191), ('wes', 0.0004045019007650442), ('hanks', 0.0003655419010615831)]\n",
      "Action\n",
      "[('marvel', 0.0010969776586092078), ('tarantino', 0.0010078646544805683), ('quentin', 0.0007488243624418761), ('007', 0.0006011873867102803), ('wars', 0.0005109036482024302), ('schwarzenegger', 0.0005065296005817022), ('mcu', 0.0005021682877227047), ('arnold', 0.00048669624342475887), ('futuristic', 0.00047650365193942364), ('batman', 0.0004509833899232855)]\n",
      "Thriller\n",
      "[('tarantino', 0.0014126814816537354), ('quentin', 0.0009814680546609482), ('007', 0.0005622575890233203), ('turing', 0.0005341055019139713), ('leonardo', 0.00045361968912900977), ('dicaprio', 0.0004481212686547187), ('psychothriller', 0.00043028299678088254), ('fincher', 0.00037600521409714523), ('complicated', 0.0003740578591635409), ('thriller', 0.0003700126813907924)]\n",
      "Adventure\n",
      "[('pixar', 0.0015640952907800816), ('marvel', 0.0012328496799447744), ('007', 0.0008228220889461298), ('hayao', 0.0007524139897205708), ('ghibli', 0.0007520191047490209), ('tolkien', 0.0007359140360798389), ('wars', 0.0007149481878039003), ('space', 0.0006180945118998788), ('miyazaki', 0.000608595749811356), ('mcu', 0.0006074363068396428)]\n"
     ]
    }
   ],
   "source": [
    "def get_defaultdict_float():\n",
    "    return defaultdict(float)\n",
    "category_tags = defaultdict(get_defaultdict_int)\n",
    "for movie in movie_tag_counts:\n",
    "    for category in movie_categories[movie]:\n",
    "        for tag in movie_tag_counts[movie]:\n",
    "            category_tags[category][tag] += 1\n",
    "category_totals = dict()\n",
    "for category in category_tags:\n",
    "    total = 0\n",
    "    for tag in category_tags[category]:\n",
    "        total += category_tags[category][tag]\n",
    "    category_totals[category] = total\n",
    "\n",
    "category_tf_scores = defaultdict(get_defaultdict_float)\n",
    "for category in category_tags:\n",
    "    for tag in category_tags[category]:\n",
    "        category_tf_scores[category][tag] = category_tags[category][tag] / category_totals[category]\n",
    "unique_tags = set()\n",
    "\n",
    "for category in category_tf_scores:\n",
    "    for tag in category_tf_scores[category]:\n",
    "        unique_tags.add(tag)\n",
    "tag_idf_scores = defaultdict(float)\n",
    "\n",
    "for tag in list(unique_tags):\n",
    "    doc_count = 0\n",
    "    for category in category_tf_scores:\n",
    "        if tag in category_tf_scores[category]:\n",
    "            doc_count += 1\n",
    "    tag_idf_scores[tag] = log(len(category_tf_scores)/doc_count)\n",
    "    \n",
    "tag_tfidf_scores = defaultdict(get_defaultdict_float)\n",
    "for category in category_tags:\n",
    "    for tag in list(unique_tags):\n",
    "        tag_tfidf_scores[category][tag] = category_tf_scores[category][tag] * tag_idf_scores[tag]\n",
    "\n",
    "for cat in top_categories:\n",
    "    tags = list(tag_tfidf_scores[cat].items())\n",
    "    tags.sort(key=operator.itemgetter(1))\n",
    "    tags.reverse()\n",
    "    print(cat)\n",
    "    print(tags[:10])"
   ]
  },
  {
   "cell_type": "code",
   "execution_count": null,
   "metadata": {},
   "outputs": [],
   "source": [
    "all_categories = [category[0] for category in category_counts_list]\n",
    "\n",
    "\n",
    "\n",
    "check_words = []\n",
    "for cat in top_categories:\n",
    "    tags = list(tag_tfidf_scores[cat].items())\n",
    "    tags.sort(key=operator.itemgetter(1))\n",
    "    tags.reverse()\n",
    "    for i in range(50):\n",
    "        check_words.append(tags[i][0])\n",
    "\n",
    "movie_tag_pairs = movie_tags[['movieId','tag']].values\n",
    "train,test = train_test_split(movie_tag_pairs)\n",
    "        \n",
    "def get_features(data,train=True):\n",
    "    X = []\n",
    "    y = []\n",
    "    genre_list = []\n",
    "    for datum in data:\n",
    "        feature = []\n",
    "        feature.append(1)\n",
    "        movie_id = datum[0]\n",
    "        tags = (str(datum[1]).translate(translator)).lower()\n",
    "        for word in check_words:\n",
    "            feature.append(word in tags)\n",
    "        genres = movie_categories[movie_id]\n",
    "        if not train:\n",
    "            X.append(feature)\n",
    "            genre_list.append(genres)\n",
    "        for genre in genres:\n",
    "            if train:\n",
    "                X.append(feature)\n",
    "            y.append(all_categories.index(genre))\n",
    "    if train:\n",
    "        return X,y\n",
    "    else:\n",
    "        return X,genre_list\n",
    "\n",
    "X_train, y_train = get_features(train)\n",
    "X_test, genres = get_features(test,False)"
   ]
  },
  {
   "cell_type": "code",
   "execution_count": null,
   "metadata": {},
   "outputs": [],
   "source": [
    "ovr = OneVsRestClassifier(SVC(gamma='auto'))\n",
    "ovr.fit(X_train,y_train)"
   ]
  },
  {
   "cell_type": "code",
   "execution_count": null,
   "metadata": {},
   "outputs": [],
   "source": [
    "correct = 0\n",
    "predictions = ovr.predict(X_test)\n",
    "for pred,genre_list in zip(predictions,genres):\n",
    "    if all_categories[pred] in genre_list:\n",
    "        correct += 1\n",
    "print('Accuracy of tag SVM: {}'.format(correct/len(predictions)))"
   ]
  },
  {
   "cell_type": "code",
   "execution_count": null,
   "metadata": {},
   "outputs": [],
   "source": [
    "correct = 0\n",
    "predictions = dict()\n",
    "for pair in movie_tag_pairs:\n",
    "    predictions[pair[0]] = top_categories[0]\n",
    "for movie in predictions:\n",
    "    if predictions[movie] in movie_categories[movie]:\n",
    "        correct += 1\n",
    "print('Accuracy of naive classifier: {}'.format(correct/len(predictions)))"
   ]
  },
  {
   "cell_type": "code",
   "execution_count": null,
   "metadata": {},
   "outputs": [],
   "source": [
    "\n",
    "if 'timestamp' in rating_data.columns:\n",
    "    rating_data.drop(columns=['timestamp'],inplace=True)\n",
    "ratings = rating_data.values"
   ]
  },
  {
   "cell_type": "code",
   "execution_count": null,
   "metadata": {},
   "outputs": [],
   "source": []
  }
 ],
 "metadata": {
  "kernelspec": {
   "display_name": "Python 3",
   "language": "python",
   "name": "python3"
  },
  "language_info": {
   "codemirror_mode": {
    "name": "ipython",
    "version": 3
   },
   "file_extension": ".py",
   "mimetype": "text/x-python",
   "name": "python",
   "nbconvert_exporter": "python",
   "pygments_lexer": "ipython3",
   "version": "3.7.0"
  }
 },
 "nbformat": 4,
 "nbformat_minor": 2
}
