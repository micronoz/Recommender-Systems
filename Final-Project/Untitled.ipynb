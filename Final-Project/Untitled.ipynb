{
 "cells": [
  {
   "cell_type": "code",
   "execution_count": 1,
   "metadata": {},
   "outputs": [],
   "source": [
    "import os\n",
    "os.environ[\"CUDA_DEVICE_ORDER\"]=\"PCI_BUS_ID\"   # see issue #152\n",
    "os.environ[\"CUDA_VISIBLE_DEVICES\"]=\"1\"\n",
    "# import keras\n",
    "# from keras import backend as K\n",
    "# print(K.tensorflow_backend._get_available_gpus())\n",
    "import pandas as pd\n",
    "from surprise import SVD,Dataset,accuracy, KNNWithMeans,NormalPredictor\n",
    "from surprise.model_selection import train_test_split\n",
    "from surprise.reader import Reader"
   ]
  },
  {
   "cell_type": "code",
   "execution_count": 2,
   "metadata": {},
   "outputs": [
    {
     "name": "stdout",
     "output_type": "stream",
     "text": [
      "Computing the msd similarity matrix...\n",
      "Done computing similarity matrix.\n",
      "MAE:  0.6387\n"
     ]
    },
    {
     "data": {
      "text/plain": [
       "0.6387323688682889"
      ]
     },
     "execution_count": 2,
     "metadata": {},
     "output_type": "execute_result"
    }
   ],
   "source": [
    "data = Dataset.load_from_file('./data/ratings.csv',Reader(skip_lines=20000000,sep=','))\n",
    "train,test = train_test_split(data,test_size=0.1,shuffle=True)\n",
    "algo = KNNWithMeans(sim_options={'user_based':False,'name':'msd'})\n",
    "algo.fit(train)\n",
    "preds = algo.test(test)\n",
    "accuracy.mae(preds)"
   ]
  },
  {
   "cell_type": "code",
   "execution_count": null,
   "metadata": {},
   "outputs": [],
   "source": [
    "data = Dataset.load_from_file('./data/ratings.csv',Reader(skip_lines=1,sep=','))\n",
    "train,test = train_test_split(data,test_size=0.1,shuffle=True)\n",
    "algo = SVD()\n",
    "algo.fit(train)\n",
    "preds = algo.test(test)\n",
    "accuracy.mae(preds)"
   ]
  },
  {
   "cell_type": "code",
   "execution_count": null,
   "metadata": {},
   "outputs": [],
   "source": [
    "algo = NormalPredictor()\n",
    "algo.fit(train)\n",
    "preds = algo.test(test)\n",
    "accuracy.mae(preds)"
   ]
  },
  {
   "cell_type": "code",
   "execution_count": null,
   "metadata": {},
   "outputs": [],
   "source": []
  }
 ],
 "metadata": {
  "kernelspec": {
   "display_name": "Python 3",
   "language": "python",
   "name": "python3"
  },
  "language_info": {
   "codemirror_mode": {
    "name": "ipython",
    "version": 3
   },
   "file_extension": ".py",
   "mimetype": "text/x-python",
   "name": "python",
   "nbconvert_exporter": "python",
   "pygments_lexer": "ipython3",
   "version": "3.7.0"
  }
 },
 "nbformat": 4,
 "nbformat_minor": 2
}
