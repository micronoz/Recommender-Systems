{
 "cells": [
  {
   "cell_type": "code",
   "execution_count": 1,
   "metadata": {},
   "outputs": [],
   "source": [
    "import os\n",
    "os.environ[\"CUDA_DEVICE_ORDER\"]=\"PCI_BUS_ID\"   # see issue #152\n",
    "os.environ[\"CUDA_VISIBLE_DEVICES\"]=\"1\"\n",
    "# import keras\n",
    "# from keras import backend as K\n",
    "# print(K.tensorflow_backend._get_available_gpus())\n",
    "import pandas as pd\n",
    "from surprise import SVD,Dataset,accuracy, KNNWithMeans,NormalPredictor\n",
    "from surprise.model_selection import train_test_split\n",
    "from surprise.reader import Reader"
   ]
  },
  {
   "cell_type": "code",
   "execution_count": 2,
   "metadata": {},
   "outputs": [
    {
     "name": "stdout",
     "output_type": "stream",
     "text": [
      "Computing the msd similarity matrix...\n",
      "Done computing similarity matrix.\n",
      "MAE:  0.6384\n"
     ]
    },
    {
     "data": {
      "text/plain": [
       "0.638376030105172"
      ]
     },
     "execution_count": 2,
     "metadata": {},
     "output_type": "execute_result"
    }
   ],
   "source": [
    "data = Dataset.load_from_file('./data/ratings.csv',Reader(skip_lines=20000000,sep=','))\n",
    "train,test = train_test_split(data,test_size=0.1,shuffle=True)\n",
    "algo = KNNWithMeans(sim_options={'user_based':False,'name':'msd'})\n",
    "algo.fit(train)\n",
    "preds = algo.test(test)\n",
    "accuracy.mae(preds)"
   ]
  },
  {
   "cell_type": "code",
   "execution_count": 2,
   "metadata": {},
   "outputs": [
    {
     "name": "stdout",
     "output_type": "stream",
     "text": [
      "Processing epoch 0\n",
      "Processing epoch 1\n",
      "Processing epoch 2\n",
      "Processing epoch 3\n",
      "Processing epoch 4\n",
      "Processing epoch 5\n",
      "Processing epoch 6\n",
      "Processing epoch 7\n",
      "Processing epoch 8\n",
      "Processing epoch 9\n",
      "Processing epoch 10\n",
      "Processing epoch 11\n",
      "Processing epoch 12\n",
      "Processing epoch 13\n",
      "Processing epoch 14\n",
      "Processing epoch 15\n",
      "Processing epoch 16\n",
      "Processing epoch 17\n",
      "Processing epoch 18\n",
      "Processing epoch 19\n",
      "MAE:  0.5950\n"
     ]
    },
    {
     "data": {
      "text/plain": [
       "0.5950354957019529"
      ]
     },
     "execution_count": 2,
     "metadata": {},
     "output_type": "execute_result"
    }
   ],
   "source": [
    "data = Dataset.load_from_file('./data/ratings.csv',Reader(skip_lines=1,sep=','))\n",
    "train,test = train_test_split(data,test_size=0.1,shuffle=True)\n",
    "algo = SVD(verbose=True)\n",
    "algo.fit(train)\n",
    "preds = algo.test(test)\n",
    "accuracy.mae(preds)"
   ]
  },
  {
   "cell_type": "code",
   "execution_count": 3,
   "metadata": {},
   "outputs": [
    {
     "name": "stdout",
     "output_type": "stream",
     "text": [
      "MAE:  1.1564\n"
     ]
    },
    {
     "data": {
      "text/plain": [
       "1.1563649380743526"
      ]
     },
     "execution_count": 3,
     "metadata": {},
     "output_type": "execute_result"
    }
   ],
   "source": [
    "algo = NormalPredictor()\n",
    "algo.fit(train)\n",
    "preds = algo.test(test)\n",
    "accuracy.mae(preds)"
   ]
  },
  {
   "cell_type": "code",
   "execution_count": null,
   "metadata": {},
   "outputs": [],
   "source": []
  }
 ],
 "metadata": {
  "kernelspec": {
   "display_name": "TensorFlow-GPU",
   "language": "python",
   "name": "tf-gpu"
  },
  "language_info": {
   "codemirror_mode": {
    "name": "ipython",
    "version": 3
   },
   "file_extension": ".py",
   "mimetype": "text/x-python",
   "name": "python",
   "nbconvert_exporter": "python",
   "pygments_lexer": "ipython3",
   "version": "3.6.6"
  }
 },
 "nbformat": 4,
 "nbformat_minor": 2
}
