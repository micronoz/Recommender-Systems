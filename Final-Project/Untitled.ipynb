{
 "cells": [
  {
   "cell_type": "code",
   "execution_count": 130,
   "metadata": {},
   "outputs": [],
   "source": [
    "import os\n",
    "os.environ[\"CUDA_DEVICE_ORDER\"]=\"PCI_BUS_ID\"   # see issue #152\n",
    "os.environ[\"CUDA_VISIBLE_DEVICES\"]=\"1\"\n",
    "# import keras\n",
    "# from keras import backend as K\n",
    "# print(K.tensorflow_backend._get_available_gpus())\n",
    "import pandas as pd\n",
    "from surprise import SVD,Dataset,accuracy, KNNWithMeans,BaselineOnly\n",
    "from surprise.model_selection import train_test_split\n",
    "from surprise.reader import Reader\n",
    "import random\n",
    "import matplotlib.pyplot as plt"
   ]
  },
  {
   "cell_type": "code",
   "execution_count": 2,
   "metadata": {},
   "outputs": [
    {
     "name": "stdout",
     "output_type": "stream",
     "text": [
      "Computing the msd similarity matrix...\n",
      "Done computing similarity matrix.\n",
      "MAE:  0.6384\n"
     ]
    },
    {
     "data": {
      "text/plain": [
       "0.638376030105172"
      ]
     },
     "execution_count": 2,
     "metadata": {},
     "output_type": "execute_result"
    }
   ],
   "source": [
    "data = Dataset.load_from_file('./data/ratings.csv',Reader(skip_lines=20000000,sep=','))\n",
    "train,test = train_test_split(data,test_size=0.1,shuffle=True)\n",
    "algo = KNNWithMeans(sim_options={'user_based':False,'name':'msd'})\n",
    "algo.fit(train)\n",
    "preds = algo.test(test)\n",
    "accuracy.mae(preds)"
   ]
  },
  {
   "cell_type": "code",
   "execution_count": 80,
   "metadata": {},
   "outputs": [
    {
     "name": "stdout",
     "output_type": "stream",
     "text": [
      "Processing epoch 0\n",
      "Processing epoch 1\n",
      "Processing epoch 2\n",
      "Processing epoch 3\n",
      "Processing epoch 4\n",
      "Processing epoch 5\n",
      "Processing epoch 6\n",
      "Processing epoch 7\n",
      "Processing epoch 8\n",
      "Processing epoch 9\n",
      "Processing epoch 10\n",
      "Processing epoch 11\n",
      "Processing epoch 12\n",
      "Processing epoch 13\n",
      "Processing epoch 14\n",
      "Processing epoch 15\n",
      "Processing epoch 16\n",
      "Processing epoch 17\n",
      "Processing epoch 18\n",
      "Processing epoch 19\n",
      "MAE:  0.5952\n"
     ]
    },
    {
     "data": {
      "text/plain": [
       "0.5952239342908552"
      ]
     },
     "execution_count": 80,
     "metadata": {},
     "output_type": "execute_result"
    }
   ],
   "source": [
    "data = Dataset.load_from_file('./data/ratings.csv',Reader(skip_lines=1,sep=','))\n",
    "train,test = train_test_split(data,test_size=0.1,shuffle=True)\n",
    "algo = SVD(verbose=True)\n",
    "algo.fit(train)\n",
    "preds = algo.test(test)\n",
    "accuracy.mae(preds)"
   ]
  },
  {
   "cell_type": "code",
   "execution_count": 79,
   "metadata": {},
   "outputs": [
    {
     "name": "stdout",
     "output_type": "stream",
     "text": [
      "Estimating biases using als...\n",
      "MAE:  0.6643\n"
     ]
    },
    {
     "data": {
      "text/plain": [
       "0.6643331265075538"
      ]
     },
     "execution_count": 79,
     "metadata": {},
     "output_type": "execute_result"
    }
   ],
   "source": [
    "algo = BaselineOnly()\n",
    "algo.fit(train)\n",
    "preds = algo.test(test)\n",
    "accuracy.mae(preds)"
   ]
  },
  {
   "cell_type": "code",
   "execution_count": 121,
   "metadata": {},
   "outputs": [
    {
     "name": "stdout",
     "output_type": "stream",
     "text": [
      "0\n",
      "15545\n",
      "30330\n",
      "45413\n",
      "60739\n",
      "75889\n",
      "90223\n"
     ]
    }
   ],
   "source": [
    "views = []\n",
    "negatives = set()\n",
    "all_reviews = set()\n",
    "for datum in data.raw_ratings:\n",
    "    all_reviews.add((datum[0],datum[1]))\n",
    "views = random.sample(all_reviews,100000)\n",
    "while len(negatives) < 100000:\n",
    "    print(len(negatives))\n",
    "    first = random.sample(all_reviews,100)\n",
    "    second = random.sample(all_reviews,100)\n",
    "    for f in first:\n",
    "        for s in second:\n",
    "            first_p = (f[0],s[1])\n",
    "            second_p = (s[0],f[1])\n",
    "            if first_p not in all_reviews:\n",
    "                negatives.add((first_p))\n",
    "            if second_p not in all_reviews:\n",
    "                negatives.add((second_p))"
   ]
  },
  {
   "cell_type": "code",
   "execution_count": 102,
   "metadata": {},
   "outputs": [
    {
     "data": {
      "text/plain": [
       "2.5874784893970704"
      ]
     },
     "execution_count": 102,
     "metadata": {},
     "output_type": "execute_result"
    }
   ],
   "source": [
    "preds[0][3]"
   ]
  },
  {
   "cell_type": "code",
   "execution_count": 122,
   "metadata": {},
   "outputs": [],
   "source": [
    "uid = []\n",
    "iid = []\n",
    "pred_this = []\n",
    "for view in views:\n",
    "    pred_this.append((view[0],view[1],0))\n",
    "for neg in negatives:\n",
    "    pred_this.append((neg[0],neg[1],0))\n",
    "preds = algo.test(pred_this)"
   ]
  },
  {
   "cell_type": "code",
   "execution_count": 132,
   "metadata": {},
   "outputs": [],
   "source": [
    "v = set(views)\n",
    "thresh = 0.0\n",
    "x = []\n",
    "y = []\n",
    "for i in range(500):\n",
    "    correct = 0\n",
    "    thresh += 0.01\n",
    "    for pred in preds:\n",
    "        pair = (pred[0],pred[1])\n",
    "        if pred[3] > thresh:\n",
    "            if pair in v:\n",
    "                correct += 1\n",
    "        else:\n",
    "            if pair in negatives:\n",
    "                correct += 1\n",
    "    x.append(thresh)\n",
    "    y.append(correct/(len(v)+len(negatives)))"
   ]
  },
  {
   "cell_type": "code",
   "execution_count": 120,
   "metadata": {},
   "outputs": [
    {
     "data": {
      "text/plain": [
       "1266136"
      ]
     },
     "execution_count": 120,
     "metadata": {},
     "output_type": "execute_result"
    }
   ],
   "source": [
    "len(negatives)"
   ]
  },
  {
   "cell_type": "code",
   "execution_count": 134,
   "metadata": {},
   "outputs": [
    {
     "data": {
      "image/png": "[encoded data removed]",
      "text/plain": [
       "<Figure size 432x288 with 1 Axes>"
      ]
     },
     "metadata": {
      "needs_background": "light"
     },
     "output_type": "display_data"
    }
   ],
   "source": [
    "plt.plot(x,y)\n",
    "plt.ylabel('Accuracy')\n",
    "plt.xlabel('Threshold')\n",
    "plt.show()"
   ]
  },
  {
   "cell_type": "code",
   "execution_count": null,
   "metadata": {},
   "outputs": [],
   "source": []
  }
 ],
 "metadata": {
  "kernelspec": {
   "display_name": "TensorFlow-GPU",
   "language": "python",
   "name": "tf-gpu"
  },
  "language_info": {
   "codemirror_mode": {
    "name": "ipython",
    "version": 3
   },
   "file_extension": ".py",
   "mimetype": "text/x-python",
   "name": "python",
   "nbconvert_exporter": "python",
   "pygments_lexer": "ipython3",
   "version": "3.6.7"
  }
 },
 "nbformat": 4,
 "nbformat_minor": 2
}
