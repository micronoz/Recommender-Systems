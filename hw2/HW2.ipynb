{
 "cells": [
  {
   "cell_type": "code",
   "execution_count": 1,
   "metadata": {},
   "outputs": [],
   "source": [
    "import matplotlib.pyplot as plt\n",
    "import networkx as nx\n",
    "from itertools import combinations\n",
    "import math"
   ]
  },
  {
   "cell_type": "code",
   "execution_count": 2,
   "metadata": {},
   "outputs": [
    {
     "name": "stdout",
     "output_type": "stream",
     "text": [
      "Reading data...\n",
      "done\n",
      "lambda = 1.0:\taccuracy=0.71868\n"
     ]
    }
   ],
   "source": [
    "import numpy\n",
    "from urllib.request import urlopen\n",
    "import scipy.optimize\n",
    "import random\n",
    "from math import exp\n",
    "from math import log\n",
    "\n",
    "def parseData(fname):\n",
    "  for l in urlopen(fname):\n",
    "    yield eval(l)\n",
    "\n",
    "print(\"Reading data...\")\n",
    "data = list(parseData(\"http://jmcauley.ucsd.edu/cse190/data/beer/beer_50000.json\"))\n",
    "print(\"done\")\n",
    "\n",
    "def feature(datum):\n",
    "  feat = [1, datum['review/taste'], datum['review/appearance'], datum['review/aroma'], datum['review/palate'], datum['review/overall']]\n",
    "  return feat\n",
    "\n",
    "X = [feature(d) for d in data]\n",
    "y = [d['beer/ABV'] >= 6.5 for d in data]\n",
    "\n",
    "def inner(x,y):\n",
    "  return sum([x[i]*y[i] for i in range(len(x))])\n",
    "\n",
    "def sigmoid(x):\n",
    "  return 1.0 / (1 + exp(-x))\n",
    "\n",
    "##################################################\n",
    "# Logistic regression by gradient ascent         #\n",
    "##################################################\n",
    "\n",
    "# NEGATIVE Log-likelihood\n",
    "def f(theta, X, y, lam):\n",
    "  loglikelihood = 0\n",
    "  for i in range(len(X)):\n",
    "    logit = inner(X[i], theta)\n",
    "    loglikelihood -= log(1 + exp(-logit))\n",
    "    if not y[i]:\n",
    "      loglikelihood -= logit\n",
    "  for k in range(len(theta)):\n",
    "    loglikelihood -= lam * theta[k]*theta[k]\n",
    "  # for debugging\n",
    "  # print(\"ll =\" + str(loglikelihood))\n",
    "  return -loglikelihood\n",
    "\n",
    "# NEGATIVE Derivative of log-likelihood\n",
    "def fprime(theta, X, y, lam):\n",
    "  dl = [0]*len(theta)\n",
    "  for i in range(len(X)):\n",
    "    logit = inner(X[i], theta)\n",
    "    for k in range(len(theta)):\n",
    "      dl[k] += X[i][k] * (1 - sigmoid(logit))\n",
    "      if not y[i]:\n",
    "        dl[k] -= X[i][k]\n",
    "  for k in range(len(theta)):\n",
    "    dl[k] -= lam*2*theta[k]\n",
    "  return numpy.array([-x for x in dl])\n",
    "\n",
    "X_train = X\n",
    "y_train = y\n",
    "\n",
    "##################################################\n",
    "# Train                                          #\n",
    "##################################################\n",
    "\n",
    "def train(lam):\n",
    "  theta,_,_ = scipy.optimize.fmin_l_bfgs_b(f, [0]*len(X[0]), fprime, pgtol = 10, args = (X_train, y_train, lam))\n",
    "  return theta\n",
    "\n",
    "##################################################\n",
    "# Predict                                        #\n",
    "##################################################\n",
    "\n",
    "def performance(theta):\n",
    "    scores = [inner(theta,x) for x in X]\n",
    "    predictions = [s > 0 for s in scores]\n",
    "    correct = [(a==b) for (a,b) in zip(predictions,y_train)]\n",
    "    acc = sum(correct) * 1.0 / len(correct)\n",
    "    return acc\n",
    "\n",
    "##################################################\n",
    "# Validation pipeline                            #\n",
    "##################################################\n",
    "\n",
    "lam = 1.0\n",
    "\n",
    "theta = train(lam)\n",
    "acc = performance(theta)\n",
    "print(\"lambda = \" + str(lam) + \":\\taccuracy=\" + str(acc))"
   ]
  },
  {
   "cell_type": "code",
   "execution_count": 3,
   "metadata": {},
   "outputs": [
    {
     "name": "stdout",
     "output_type": "stream",
     "text": [
      "Length of sets: Train 16666, Test 16667, Validate 16667\n",
      "Training performance: 0.7207488299531981\n",
      "Test set performance: 0.7188456230875383\n",
      "Validation set performance: 0.7177656446871062\n"
     ]
    }
   ],
   "source": [
    "#Question 1\n",
    "dataCopy = data.copy()\n",
    "random.shuffle(dataCopy)\n",
    "data_train = dataCopy[:len(dataCopy)//3]\n",
    "data_test = dataCopy[len(dataCopy)//3:round(2*len(dataCopy)/3)]\n",
    "data_valid = dataCopy[round(2*len(dataCopy)/3):]\n",
    "\n",
    "print('Length of sets: Train {}, Test {}, Validate {}'.format(len(data_train), len(data_test), len(data_valid)))\n",
    "\n",
    "X_train = [feature(d) for d in data_train]\n",
    "y_train = [d['beer/ABV'] >= 6.5 for d in data_train]\n",
    "X_test = [feature(d) for d in data_test]\n",
    "y_test = [d['beer/ABV'] >= 6.5 for d in data_test]\n",
    "X_valid = [feature(d) for d in data_valid]\n",
    "y_valid = [d['beer/ABV'] >= 6.5 for d in data_valid]\n",
    "\n",
    "def performance(theta, featureM, labelM):\n",
    "    scores = [inner(theta,x) for x in featureM]\n",
    "    predictions = [s > 0 for s in scores]\n",
    "    correct = [(a==b) for (a,b) in zip(predictions,labelM)]\n",
    "    acc = sum(correct) * 1.0 / len(correct)\n",
    "    return acc\n",
    "\n",
    "theta = train(lam)\n",
    "print('Training performance: {}'.format(performance(theta, X_train, y_train)))\n",
    "print('Test set performance: {}'.format(performance(theta, X_test, y_test)))\n",
    "print('Validation set performance: {}'.format(performance(theta, X_valid, y_valid)))"
   ]
  },
  {
   "cell_type": "code",
   "execution_count": 4,
   "metadata": {},
   "outputs": [
    {
     "name": "stdout",
     "output_type": "stream",
     "text": [
      "True Positives: 8990\n",
      "True Negatives: 2991\n",
      "Positives: 12314\n",
      "Negatives: 4353\n",
      "False Positives: 3324\n",
      "False Negatives: 1362\n"
     ]
    }
   ],
   "source": [
    "#Question 2\n",
    "def performance(theta, featureM, labelM, mode='P'):\n",
    "    scores = [inner(theta,x) for x in featureM]\n",
    "    predictions = [s > 0 for s in scores]\n",
    "    if (mode == 'TP'):\n",
    "        correct = sum([(a==b and a == 1) for (a,b) in zip(predictions,labelM)])\n",
    "    if (mode == 'TN'):\n",
    "        correct = sum([(a==b and a == 0) for (a,b) in zip(predictions,labelM)])\n",
    "    if (mode == 'P'):\n",
    "        correct = sum([(a == 1) for (a,b) in zip(predictions,labelM)])\n",
    "    if (mode == 'N'):\n",
    "        correct = sum([(a == 0) for (a,b) in zip(predictions,labelM)])\n",
    "    if (mode == 'FP'):\n",
    "        correct = sum([(a!=b and a == 1) for (a,b) in zip(predictions,labelM)])\n",
    "    if (mode == 'FN'):\n",
    "        correct = sum([(a!=b and a == 0) for (a,b) in zip(predictions,labelM)])\n",
    "    return correct\n",
    "TP = performance(theta, X_test, y_test, 'TP')\n",
    "TN = performance(theta, X_test, y_test, 'TN')\n",
    "P = performance(theta, X_test, y_test, 'P')\n",
    "N = performance(theta, X_test, y_test, 'N')\n",
    "FP = performance(theta, X_test, y_test, 'FP')\n",
    "FN = performance(theta, X_test, y_test, 'FN')\n",
    "print('True Positives: {}'.format(TP))\n",
    "print('True Negatives: {}'.format(TN))\n",
    "print('Positives: {}'.format(P))\n",
    "print('Negatives: {}'.format(N))\n",
    "print('False Positives: {}'.format(FP))\n",
    "print('False Negatives: {}'.format(FN))\n"
   ]
  },
  {
   "cell_type": "code",
   "execution_count": 5,
   "metadata": {},
   "outputs": [
    {
     "name": "stdout",
     "output_type": "stream",
     "text": [
      "Precision: 0.7300633425369498\n",
      "Recall: 0.8684312210200927\n",
      "Precision@100: 0.95\n",
      "Recall@100: 1.0\n"
     ]
    }
   ],
   "source": [
    "#Question 3\n",
    "print('Precision: {}'.format(TP/(TP+FP)))\n",
    "print('Recall: {}'.format(TP/(TP+FN)))\n",
    "\n",
    "def PRL(theta, featureM, labelM, limit):\n",
    "    scores = [inner(theta,x) for x in featureM]\n",
    "    sortedScores = sorted(zip(scores, labelM), key=lambda tup:tup[0],reverse=True)\n",
    "    sortedLabels = [i[1] for i in sortedScores]\n",
    "    sortedPreds = [i[0] > 0 for i in sortedScores]\n",
    "    TP = sum([(a==b and a == 1) for (a,b) in zip(sortedPreds[:limit],sortedLabels[:limit])])\n",
    "    FP = correct = sum([(a!=b and a == 1) for (a,b) in zip(sortedPreds[:limit],sortedLabels[:limit])])\n",
    "    FN = correct = sum([(a!=b and a == 0) for (a,b) in zip(sortedPreds[:limit],sortedLabels[:limit])])\n",
    "    if (TP != 0):\n",
    "        return (TP/(TP+FP), TP/(TP+FN))\n",
    "    else:\n",
    "        return(0,0)\n",
    "results = PRL(theta, X_test, y_test, 100)\n",
    "print('Precision@100: {}'.format(results[0]))\n",
    "print('Recall@100: {}'.format(results[1]))"
   ]
  },
  {
   "cell_type": "code",
   "execution_count": 6,
   "metadata": {},
   "outputs": [
    {
     "data": {
      "image/png": "[encoded data removed]",
      "text/plain": [
       "<Figure size 432x288 with 1 Axes>"
      ]
     },
     "metadata": {},
     "output_type": "display_data"
    }
   ],
   "source": [
    "#Question 4\n",
    "def PRL(theta, featureM, labelM):\n",
    "    scores = [inner(theta,x) for x in featureM]\n",
    "    sortedScores = sorted(zip(scores, labelM), key=lambda tup:tup[0],reverse=True)\n",
    "    sortedLabels = [i[1] for i in sortedScores]\n",
    "    sortedPreds = [i[0] > 0 for i in sortedScores]\n",
    "    return (sortedPreds, sortedLabels)\n",
    "\n",
    "(preds, labels) = PRL(theta, X_test, y_test)\n",
    "resultP = []\n",
    "resultR = []\n",
    "TP_all = [(a==b and a == 1) for (a,b) in zip(preds,labels)]\n",
    "FP_all = [(a!=b and a == 1) for (a,b) in zip(preds,labels)]\n",
    "FN_all = [(a!=b and a == 0) for (a,b) in zip(preds,labels)]\n",
    "TP = 0\n",
    "TP_sum = sum(TP_all)\n",
    "FP = 0\n",
    "FN = sum(FN_all)\n",
    "for limit in range(len(X_test)):\n",
    "    TP += TP_all[limit]\n",
    "    FP += FP_all[limit]\n",
    "#    FN += FN_all[limit]\n",
    "    if (TP != 0):\n",
    "        resultP.append(TP/(TP+FP))\n",
    "        resultR.append(TP/(TP_sum+FN))\n",
    "    else:\n",
    "        resultP.append(0)\n",
    "        resultR.append(0)\n",
    "plt.plot(resultR, resultP, 'ro')\n",
    "plt.axis([0, 1, 0, 1])\n",
    "plt.xlabel('Recall')\n",
    "plt.ylabel('Precision')\n",
    "plt.show()"
   ]
  },
  {
   "cell_type": "code",
   "execution_count": 7,
   "metadata": {},
   "outputs": [
    {
     "name": "stdout",
     "output_type": "stream",
     "text": [
      "Size of the biggest connected component: 40\n",
      "Connected component:{'878', '888', '886', '830', '708', '805', '774', '713', '840', '810', '747', '856', '869', '876', '772', '890', '719', '882', '804', '769', '745', '880', '753', '823', '863', '703', '800', '828', '893', '884', '889', '803', '729', '825', '819', '811', '798', '861', '697', '864'}\n"
     ]
    }
   ],
   "source": [
    "#Question 5\n",
    "inputF = open('egonet.txt', 'r')\n",
    "G = nx.Graph()\n",
    "nodes = []\n",
    "edges = []\n",
    "for line in inputF.readlines():\n",
    "    both = line.split(' ')\n",
    "    first = both[0]\n",
    "    second = both[1].split('\\n')[0]\n",
    "    nodes.append(first)\n",
    "    nodes.append(second)\n",
    "    edges.append((first,second))\n",
    "uniqueNodes = set(nodes)\n",
    "for node in uniqueNodes:\n",
    "    G.add_node(node)\n",
    "for edge in edges:\n",
    "    G.add_edge(*edge)\n",
    "CCs = list(nx.connected_components(G))\n",
    "\n",
    "maxVal = 0\n",
    "for CC in CCs:\n",
    "    if len(CC) > maxVal:\n",
    "        maxVal = len(CC)\n",
    "        maxCC = CC\n",
    "print('Size of the biggest connected component: {}'.format(maxVal))\n",
    "print('Connected component:{}'.format(maxCC))\n"
   ]
  },
  {
   "cell_type": "code",
   "execution_count": 8,
   "metadata": {},
   "outputs": [
    {
     "name": "stdout",
     "output_type": "stream",
     "text": [
      "Normalized cut cost: 0.8448117539026632\n",
      "First part: ['697', '703', '708', '713', '719', '729', '745', '747', '753', '769', '772', '774', '798', '800', '803', '804', '805', '810', '811', '819']\n",
      "Second part: ['823', '825', '828', '830', '840', '856', '861', '863', '864', '869', '876', '878', '880', '882', '884', '886', '888', '889', '890', '893']\n"
     ]
    }
   ],
   "source": [
    "#Question 6\n",
    "sortedCC = sorted(maxCC)\n",
    "minVals = sortedCC[:round(len(maxCC)/2)]\n",
    "maxVals = sortedCC[round(len(maxCC)/2):]\n",
    "print('Normalized cut cost: {}'.format(nx.normalized_cut_size(G,minVals,maxVals)))\n",
    "print('First part: {}'.format(minVals))\n",
    "print('Second part: {}'.format(maxVals))"
   ]
  },
  {
   "cell_type": "code",
   "execution_count": 9,
   "metadata": {},
   "outputs": [
    {
     "name": "stdout",
     "output_type": "stream",
     "text": [
      "First split elements: ['697', '703', '708', '713', '719', '745', '747', '753', '769', '772', '774', '798', '800', '803', '805', '810', '811', '819', '828', '823', '830', '840', '880', '890', '869', '856']\n",
      "Second split elements: ['825', '861', '863', '864', '876', '878', '882', '884', '886', '888', '889', '893', '729', '804']\n",
      "Minimum normalized cut cost this split achieves: 0.19634091923248548\n"
     ]
    }
   ],
   "source": [
    "#Question 7\n",
    "minCost = 1.1\n",
    "currentCost = 1.0\n",
    "stable1 = minVals.copy()\n",
    "stable2 = maxVals.copy()\n",
    "while (currentCost < minCost):\n",
    "    minCost = currentCost\n",
    "    minValIter = 1.0\n",
    "    minId = ''\n",
    "    for i in range(len(stable1)):\n",
    "        val = stable1[i]\n",
    "        testCut1 = stable1.copy()\n",
    "        testCut1.remove(val)\n",
    "        testCut2 = stable2.copy()\n",
    "        testCut2.append(val)\n",
    "        cost = nx.normalized_cut_size(G,testCut1,testCut2)\n",
    "        if (cost < minValIter):\n",
    "            minId = val\n",
    "            minValIter = cost\n",
    "        if (cost == minValIter and int(minId) > int(val) if minId != '' else True):\n",
    "            minId = val\n",
    "            minValIter = cost\n",
    "            \n",
    "    for i in range(len(stable2)):\n",
    "        val = stable2[i]\n",
    "        testCut1 = stable1.copy()\n",
    "        testCut1.append(val)\n",
    "        testCut2 = stable2.copy()\n",
    "        testCut2.remove(val)\n",
    "        cost = nx.normalized_cut_size(G,testCut1,testCut2)\n",
    "        if (cost < minValIter):\n",
    "            minId = val\n",
    "            minValIter = cost\n",
    "        if (cost == minValIter and int(minId) > int(val) if minId != '' else True):\n",
    "            minId = val\n",
    "            minValIter = cost\n",
    "    if minValIter < currentCost:\n",
    "        if (minId in stable1):\n",
    "            stable1.remove(minId)\n",
    "            stable2.append(minId)\n",
    "        else:\n",
    "            stable1.append(minId)\n",
    "            stable2.remove(minId)\n",
    "        currentCost = minValIter\n",
    "print('First split elements: {}'.format(stable1))\n",
    "print('Second split elements: {}'.format(stable2))\n",
    "print('Minimum normalized cut cost this split achieves: {}'.format(nx.normalized_cut_size(G,stable1,stable2)))"
   ]
  },
  {
   "cell_type": "code",
   "execution_count": 10,
   "metadata": {},
   "outputs": [
    {
     "name": "stdout",
     "output_type": "stream",
     "text": [
      "Initial communities: [{'697'}, {'703'}, {'708'}, {'713'}, {'719'}, {'729'}, {'745'}, {'747'}, {'753'}, {'769'}, {'772'}, {'774'}, {'798'}, {'800'}, {'803'}, {'804'}, {'805'}, {'810'}, {'811'}, {'819'}, {'823'}, {'825'}, {'828'}, {'830'}, {'840'}, {'856'}, {'861'}, {'863'}, {'864'}, {'869'}, {'876'}, {'878'}, {'880'}, {'882'}, {'884'}, {'886'}, {'888'}, {'889'}, {'890'}, {'893'}]\n",
      "Communities are enclosed by curly braces\n",
      "Maximum modularity achieved: 0.814537037037037\n",
      "Maximum modularity communities: [{'878', '888', '886', '830', '708', '805', '774', '713', '840', '810', '747', '856', '869', '876', '772', '890', '719', '882', '804', '769', '745', '880', '753', '823', '863', '703', '800', '828', '893', '884', '803', '889', '729', '798', '825', '819', '811', '861', '697', '864'}]\n"
     ]
    }
   ],
   "source": [
    "#Question 8\n",
    "def modularity(G, communities, weight=None):\n",
    "    def calculateE(c):\n",
    "        edgesOf = list(combinations(c,2))\n",
    "        num_edges = 0\n",
    "        for combo in edgesOf:\n",
    "            num_edges += G.number_of_edges(*combo)\n",
    "        return num_edges/G.number_of_edges()\n",
    "    def calculateA(c):\n",
    "        for node in c:\n",
    "            endpoints = G[node]\n",
    "            num_endpoints = len(endpoints)\n",
    "            if (node in endpoints):\n",
    "                num_endpoints += 1\n",
    "            return num_endpoints/(G.number_of_edges()*2)\n",
    "    Q = 0\n",
    "    for c in communities:\n",
    "        Q += (calculateE(c) - (calculateA(c)**2))\n",
    "    return Q\n",
    "moduleList = [set([i]) for i in sortedCC]\n",
    "currentScore = modularity(G, moduleList)\n",
    "maxScore = -math.inf\n",
    "print('Initial communities: {}'.format(moduleList))\n",
    "while (currentScore > maxScore):\n",
    "    maxScore = currentScore\n",
    "    currentIter = currentScore\n",
    "    for i in range(len(moduleList)):\n",
    "        for j in range(i+1,len(moduleList)):\n",
    "            temp = moduleList.copy()\n",
    "            join1 = moduleList[i]\n",
    "            join2 = moduleList[j]\n",
    "            joined = join1.union(join2)\n",
    "            temp.remove(join1)\n",
    "            temp.remove(join2)\n",
    "            temp.append(joined)\n",
    "            currentVal = modularity(G,temp)\n",
    "            if (currentVal > currentIter):\n",
    "                maxList = temp\n",
    "                currentIter = currentVal\n",
    "    if (currentIter > currentScore):\n",
    "        currentScore = currentIter\n",
    "        moduleList = temp\n",
    "print('Communities are enclosed by curly braces')\n",
    "print('Maximum modularity achieved: {}'.format(currentScore))\n",
    "print('Maximum modularity communities: {}'.format(moduleList))"
   ]
  }
 ],
 "metadata": {
  "kernelspec": {
   "display_name": "Python 3",
   "language": "python",
   "name": "python3"
  },
  "language_info": {
   "codemirror_mode": {
    "name": "ipython",
    "version": 3
   },
   "file_extension": ".py",
   "mimetype": "text/x-python",
   "name": "python",
   "nbconvert_exporter": "python",
   "pygments_lexer": "ipython3",
   "version": "3.6.5"
  }
 },
 "nbformat": 4,
 "nbformat_minor": 2
}
